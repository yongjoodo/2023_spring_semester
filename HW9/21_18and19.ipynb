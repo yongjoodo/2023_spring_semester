{
 "cells": [
  {
   "cell_type": "code",
   "execution_count": 1,
   "metadata": {},
   "outputs": [],
   "source": [
    "import numpy as np"
   ]
  },
  {
   "cell_type": "code",
   "execution_count": 26,
   "metadata": {},
   "outputs": [],
   "source": [
    "def ARNOLDI(A,x1,m):\n",
    "    n=np.shape(A)[0]\n",
    "    Q=np.zeros((n,m+1))\n",
    "    H=np.zeros((m+1,m))\n",
    "    Q[:,0]=x1/np.linalg.norm(x1,2)\n",
    "    for i in range(0,m):\n",
    "        w=A@Q[:,i]\n",
    "        for j in range(0,i+1):\n",
    "            H[j,i]=np.dot(Q[:,j],w)\n",
    "            w=w-H[j,i]*Q[:,j]\n",
    "        H[i+1,i]=np.linalg.norm(w,2)\n",
    "        if H[i+1,i]==0:return Q,H\n",
    "        Q[:,i+1]=w/H[i+1,i]\n",
    "    return Q,H\n",
    "\n",
    "\n",
    "def LANCZOS(A,x0,m):\n",
    "    n=np.shape(A)[0]\n",
    "    Q=np.zeros([n,m+2])\n",
    "    T=np.zeros([m+1,m])\n",
    "    alpha=np.zeros([m,1])\n",
    "    beta=np.zeros([m+1,1])\n",
    "    Q[:,0]=0;beta[0,0]=0;Q[:,1]=x0/np.linalg.norm(x0,2)\n",
    "    for i in range(1,m+1):\n",
    "        w=A@Q[:,i]\n",
    "        alpha[i-1,0]=np.dot(Q[:,i],w)\n",
    "        w=w-beta[i-1,0]*Q[:,i-1]-alpha[i-1,0]*Q[:,i]\n",
    "        beta[i,0]=np.linalg.norm(w,2)\n",
    "        Q[:,i+1]=w/beta[i,0]\n",
    "    T[0:m,0:m]=np.diag(alpha[0:m,0])+np.diag(beta[1:m,0],-1)+np.diag(beta[1:m,0],1)\n",
    "    T[m,m-1]=beta[m,0]\n",
    "    return Q[:,1:m+2],T"
   ]
  },
  {
   "cell_type": "code",
   "execution_count": 3,
   "metadata": {},
   "outputs": [
    {
     "name": "stdout",
     "output_type": "stream",
     "text": [
      "The Q matrix is:\n",
      " [[ 0.12048176  0.20098979  0.4536044  -0.65580897]\n",
      " [ 0.25896678  0.79540125 -0.09903044  0.46041133]\n",
      " [ 0.48776714 -0.48249486 -0.43911773  0.11934532]\n",
      " [ 0.67117729  0.18342363 -0.24507517 -0.43079267]\n",
      " [ 0.47960883 -0.24595615  0.72907462  0.39763095]]\n",
      "\n",
      "The H matrix is:\n",
      " [[ 25.32372653  -6.74853603  12.80623559]\n",
      " [ 15.00586895 -20.31927926  -7.99857976]\n",
      " [  0.          19.30930272  15.6072433 ]\n",
      " [  0.           0.          10.18062525]]\n",
      "\n",
      "norm(A*Q(:,1:m) - Q*H) is:  5.415959340695319e-15\n"
     ]
    }
   ],
   "source": [
    "#21.18\n",
    "A=np.array([[1,3,-1,7,2],[5,-8,25,3,12],[0,-1,0,3,7],[8,-3,23,6,9],[56,13,8,-9,1]])\n",
    "x1=np.transpose(np.random.rand(5,1))\n",
    "Q,H=ARNOLDI(A,x1,3)\n",
    "\n",
    "print('The Q matrix is:\\n',Q)\n",
    "print('\\nThe H matrix is:\\n',H)\n",
    "print('\\nnorm(A*Q(:,1:m) - Q*H) is: ',np.linalg.norm(A@Q[:,0:3]-Q@H,2))"
   ]
  },
  {
   "cell_type": "code",
   "execution_count": 39,
   "metadata": {},
   "outputs": [
    {
     "name": "stdout",
     "output_type": "stream",
     "text": [
      "The Q matrix is:\n",
      " [[ 0.13916332  0.59482315 -0.20281537 -0.47097286]\n",
      " [ 0.02786637  0.75468628 -0.13362446  0.27833552]\n",
      " [ 0.80811865  0.03834268  0.32117339  0.43761606]\n",
      " [ 0.39070522 -0.26326383 -0.87378587  0.00492107]\n",
      " [ 0.41731368 -0.07652472  0.27268358 -0.71356981]]\n",
      "\n",
      "The T matrix is:\n",
      " [[13.59043456  4.91698755  0.        ]\n",
      " [ 4.91698755  9.48025636 10.03840167]\n",
      " [ 0.         10.03840167  3.67066105]\n",
      " [ 0.          0.          5.571738  ]]\n",
      "\n",
      "norm(A*Q(:,1:m) - Q*T) is:  2.210223101981737e-15\n"
     ]
    }
   ],
   "source": [
    "#21.19\n",
    "A=np.array([[1,5,3,-1,6],[5,1,7,-8,2],[3,7,12,-1,3],[-1,-8,-1,9,4],[6,2,3,4,1]])\n",
    "x0=np.transpose(np.random.rand(5,1))\n",
    "Q,T=LANCZOS(A,x0,3)\n",
    "\n",
    "print('The Q matrix is:\\n',Q)\n",
    "print('\\nThe T matrix is:\\n',T)\n",
    "print('\\nnorm(A*Q(:,1:m) - Q*T) is: ',np.linalg.norm(A@Q[:,0:3]-Q@T,2))"
   ]
  }
 ],
 "metadata": {
  "kernelspec": {
   "display_name": "base",
   "language": "python",
   "name": "python3"
  },
  "language_info": {
   "codemirror_mode": {
    "name": "ipython",
    "version": 3
   },
   "file_extension": ".py",
   "mimetype": "text/x-python",
   "name": "python",
   "nbconvert_exporter": "python",
   "pygments_lexer": "ipython3",
   "version": "3.10.6"
  },
  "orig_nbformat": 4
 },
 "nbformat": 4,
 "nbformat_minor": 2
}

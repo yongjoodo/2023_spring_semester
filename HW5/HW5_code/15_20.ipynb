{
 "cells": [
  {
   "cell_type": "code",
   "execution_count": 1,
   "metadata": {},
   "outputs": [],
   "source": [
    "import numpy as np\n",
    "import scipy as sp"
   ]
  },
  {
   "cell_type": "code",
   "execution_count": 2,
   "metadata": {},
   "outputs": [],
   "source": [
    "A1=np.array([[2,5,-1,-7],[-4,1,5,0]])\n",
    "A2=np.array([[-1,1,2,3,5],[1,2,3,4,5],[-4,-3,-2,-1,0]])\n",
    "U1,S1,V1t=sp.linalg.svd(A1)\n",
    "U2,S2,V2t=sp.linalg.svd(A2)"
   ]
  },
  {
   "cell_type": "code",
   "execution_count": 3,
   "metadata": {},
   "outputs": [
    {
     "name": "stdout",
     "output_type": "stream",
     "text": [
      "For the case of (a)\n",
      "U=\n",
      " [[ 0.97924896  0.202661  ]\n",
      " [-0.202661    0.97924896]]\n",
      "S=\n",
      " [[8.98084876 0.        ]\n",
      " [0.         6.35172068]]\n",
      "V=\n",
      " [[ 0.30833855 -0.55286969  0.65571251  0.41146513]\n",
      " [ 0.5226214   0.31370302 -0.40783375  0.67980064]\n",
      " [-0.221867    0.73894682  0.60613676  0.19321197]\n",
      " [-0.76326223 -0.22334531 -0.19055436  0.57553164]]\n",
      "basis is displaced in column vector of displayed matrices of each cases.\n",
      "basis of null space of A is\n",
      " [[ 0.65571251  0.41146513]\n",
      " [-0.40783375  0.67980064]\n",
      " [ 0.60613676  0.19321197]\n",
      " [-0.19055436  0.57553164]]\n",
      "basis of range of A is \n",
      " [[ 0.97924896  0.202661  ]\n",
      " [-0.202661    0.97924896]]\n",
      "basis of row space of A is \n",
      " [[ 0.30833855 -0.55286969]\n",
      " [ 0.5226214   0.31370302]\n",
      " [-0.221867    0.73894682]\n",
      " [-0.76326223 -0.22334531]]\n",
      "basis of null space of At is \n",
      " []\n"
     ]
    }
   ],
   "source": [
    "print('For the case of (a)')\n",
    "print('U=\\n',U1);print('S=\\n',np.diag(S1));print('V=\\n',V1t.T)\n",
    "r1=np.linalg.matrix_rank(A1)\n",
    "print('basis is displaced in column vector of displayed matrices of each cases.')\n",
    "print('basis of null space of A is\\n',V1t[r1:4,:].T)\n",
    "print('basis of range of A is \\n',U1[:,0:r1])\n",
    "print('basis of row space of A is \\n',V1t[0:r1,:].T)\n",
    "print('basis of null space of At is \\n',U1[:,r1:2])"
   ]
  },
  {
   "cell_type": "code",
   "execution_count": 4,
   "metadata": {},
   "outputs": [
    {
     "name": "stdout",
     "output_type": "stream",
     "text": [
      "For the case of (b)\n",
      "U=\n",
      " [[ 0.60141357  0.41142679 -0.68485744]\n",
      " [ 0.75004194  0.00452581  0.66137479]\n",
      " [-0.27520684  0.91143157  0.30586546]]\n",
      "S=\n",
      " [[9.8802528  0.         0.        ]\n",
      " [0.         5.21461835 0.        ]\n",
      " [0.         0.         0.43400468]]\n",
      "V=\n",
      " [[ 0.1264599  -0.77716661  0.28287798  0.03052831  0.54687112]\n",
      " [ 0.29625942 -0.44371729 -0.6444729   0.38726146 -0.3873352 ]\n",
      " [ 0.40518869 -0.1891667   0.00617171 -0.83557954 -0.31907184]\n",
      " [ 0.51411795  0.06538389  0.65681632  0.38726146 -0.3873352 ]\n",
      " [ 0.68391748  0.39883322 -0.27053457  0.03052831  0.54687112]]\n",
      "basis is displaced in column vector of displayed matrices of each cases.\n",
      "basis of null space of A is\n",
      " [[ 0.03052831  0.54687112]\n",
      " [ 0.38726146 -0.3873352 ]\n",
      " [-0.83557954 -0.31907184]\n",
      " [ 0.38726146 -0.3873352 ]\n",
      " [ 0.03052831  0.54687112]]\n",
      "basis of range of A is \n",
      " [[ 0.60141357  0.41142679 -0.68485744]\n",
      " [ 0.75004194  0.00452581  0.66137479]\n",
      " [-0.27520684  0.91143157  0.30586546]]\n",
      "basis of row space of A is \n",
      " [[ 0.1264599  -0.77716661  0.28287798]\n",
      " [ 0.29625942 -0.44371729 -0.6444729 ]\n",
      " [ 0.40518869 -0.1891667   0.00617171]\n",
      " [ 0.51411795  0.06538389  0.65681632]\n",
      " [ 0.68391748  0.39883322 -0.27053457]]\n",
      "basis of null space of At is \n",
      " []\n"
     ]
    }
   ],
   "source": [
    "print('For the case of (b)')\n",
    "print('U=\\n',U2);print('S=\\n',np.diag(S2));print('V=\\n',V2t.T)\n",
    "r2=np.linalg.matrix_rank(A2)\n",
    "print('basis is displaced in column vector of displayed matrices of each cases.')\n",
    "print('basis of null space of A is\\n',V2t[r2:5,:].T)\n",
    "print('basis of range of A is \\n',U2[:,0:r2])\n",
    "print('basis of row space of A is \\n',V2t[0:r2,:].T)\n",
    "print('basis of null space of At is \\n',U2[:,r2:3])"
   ]
  }
 ],
 "metadata": {
  "kernelspec": {
   "display_name": "base",
   "language": "python",
   "name": "python3"
  },
  "language_info": {
   "codemirror_mode": {
    "name": "ipython",
    "version": 3
   },
   "file_extension": ".py",
   "mimetype": "text/x-python",
   "name": "python",
   "nbconvert_exporter": "python",
   "pygments_lexer": "ipython3",
   "version": "3.9.16"
  },
  "orig_nbformat": 4
 },
 "nbformat": 4,
 "nbformat_minor": 2
}

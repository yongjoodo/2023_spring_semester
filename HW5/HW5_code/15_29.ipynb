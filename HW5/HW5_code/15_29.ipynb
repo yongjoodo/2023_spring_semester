{
 "cells": [
  {
   "cell_type": "code",
   "execution_count": 1,
   "metadata": {},
   "outputs": [],
   "source": [
    "import numpy as np\n",
    "import scipy as sp"
   ]
  },
  {
   "cell_type": "code",
   "execution_count": 2,
   "metadata": {},
   "outputs": [],
   "source": [
    "A1=np.array([[1,-1,0],[8,4,1],[-9,0,3]])\n",
    "A2=np.array([[1,3,0,1],[1,5,-3,8],[12,5,7,0],[6,77,15,35]])\n",
    "b1=np.array([[1],[2],[3]])\n",
    "b2=np.array([[-1],[0],[1],[2]])"
   ]
  },
  {
   "cell_type": "code",
   "execution_count": 3,
   "metadata": {},
   "outputs": [
    {
     "name": "stdout",
     "output_type": "stream",
     "text": [
      "result of first system using SVD is:\n",
      " [[ 0.33333333]\n",
      " [-0.66666667]\n",
      " [ 2.        ]]\n",
      "result of second system using SVD is:\n",
      " [[-0.30724005]\n",
      " [-0.46615152]\n",
      " [ 1.00251974]\n",
      " [ 0.70569461]]\n",
      "result of first system using ordinary operation:\n",
      " [[ 0.33333333]\n",
      " [-0.66666667]\n",
      " [ 2.        ]]\n",
      "result of second system using ordinary operation:\n",
      " [[-0.30724005]\n",
      " [-0.46615152]\n",
      " [ 1.00251974]\n",
      " [ 0.70569461]]\n"
     ]
    }
   ],
   "source": [
    "U1,S1,V1t=np.linalg.svd(A1)\n",
    "U2,S2,V2t=np.linalg.svd(A2)\n",
    "\n",
    "x1=V1t.T@(np.diag(1/S1))@U1.T@b1\n",
    "x2=V2t.T@(np.diag(1/S2))@U2.T@b2\n",
    "\n",
    "print('result of first system using SVD is:\\n',x1)\n",
    "print('result of second system using SVD is:\\n',x2)\n",
    "\n",
    "print('result of first system using ordinary operation:\\n',np.linalg.inv(A1)@b1)\n",
    "print('result of second system using ordinary operation:\\n',np.linalg.inv(A2)@b2)"
   ]
  }
 ],
 "metadata": {
  "kernelspec": {
   "display_name": "base",
   "language": "python",
   "name": "python3"
  },
  "language_info": {
   "codemirror_mode": {
    "name": "ipython",
    "version": 3
   },
   "file_extension": ".py",
   "mimetype": "text/x-python",
   "name": "python",
   "nbconvert_exporter": "python",
   "pygments_lexer": "ipython3",
   "version": "3.9.16"
  },
  "orig_nbformat": 4
 },
 "nbformat": 4,
 "nbformat_minor": 2
}

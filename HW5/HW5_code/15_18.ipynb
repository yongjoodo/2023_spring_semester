{
 "cells": [
  {
   "cell_type": "code",
   "execution_count": 1,
   "metadata": {},
   "outputs": [],
   "source": [
    "import numpy as np\n",
    "import scipy as sp"
   ]
  },
  {
   "cell_type": "code",
   "execution_count": 2,
   "metadata": {},
   "outputs": [
    {
     "name": "stdout",
     "output_type": "stream",
     "text": [
      "U=\n",
      " [[-0.89442719 -0.4472136 ]\n",
      " [-0.4472136   0.89442719]]\n",
      "S=\n",
      " [[3.16227766 0.        ]\n",
      " [0.         0.        ]]\n",
      "V=\n",
      " [[-0.70710678 -0.70710678]\n",
      " [-0.70710678  0.70710678]]\n"
     ]
    }
   ],
   "source": [
    "A=np.array([[2,2],[1,1]])\n",
    "U,S,Vt=sp.linalg.svd(A)\n",
    "print('U=\\n',U);print('S=\\n',np.diag(S));print('V=\\n',Vt.T)"
   ]
  },
  {
   "cell_type": "code",
   "execution_count": 3,
   "metadata": {},
   "outputs": [
    {
     "name": "stdout",
     "output_type": "stream",
     "text": [
      "basis of null space of A is\n",
      " [-0.70710678  0.70710678]\n",
      "basis of range of A is \n",
      " [-0.89442719 -0.4472136 ]\n"
     ]
    }
   ],
   "source": [
    "print('basis of null space of A is\\n',Vt[1,:].T)\n",
    "print('basis of range of A is \\n',U[:,0])"
   ]
  }
 ],
 "metadata": {
  "kernelspec": {
   "display_name": "base",
   "language": "python",
   "name": "python3"
  },
  "language_info": {
   "codemirror_mode": {
    "name": "ipython",
    "version": 3
   },
   "file_extension": ".py",
   "mimetype": "text/x-python",
   "name": "python",
   "nbconvert_exporter": "python",
   "pygments_lexer": "ipython3",
   "version": "3.9.16"
  },
  "orig_nbformat": 4
 },
 "nbformat": 4,
 "nbformat_minor": 2
}

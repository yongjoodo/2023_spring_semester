{
 "cells": [
  {
   "attachments": {},
   "cell_type": "markdown",
   "metadata": {},
   "source": [
    "# Problem 2.12\n",
    "## System equations consists of Hilbert Matrix H20, and its calculation using RREF and Sympy library\n",
    "Hilbert matrix is well-known square matrix for its distinctive characteristics compared with other matrices. Similar to previous problem, 2 different method\n",
    "will be tested to compare the accuracy of RREF algorithm with floating number calculation. \n",
    "\n",
    "### First, we will import numpy to use array structure, and we will also import sympy, which operates similarily compared with symbolic toolbox in MATLAB."
   ]
  },
  {
   "cell_type": "code",
   "execution_count": 3,
   "metadata": {},
   "outputs": [],
   "source": [
    "import numpy as np\n",
    "from sympy import Matrix,pprint\n",
    "\n",
    "n=20\n",
    "A=np.zeros((n,n))\n",
    "for i in range(0,n):\n",
    "    for j in range(0,n):\n",
    "        A[i,j]=1/(i+j+1)\n",
    "b1=np.zeros((n,1))\n",
    "b2=np.zeros((n,1))\n",
    "for i in range(0,n):\n",
    "    b1[i,0]=1\n",
    "    b2[i,0]=0.99"
   ]
  },
  {
   "attachments": {},
   "cell_type": "markdown",
   "metadata": {},
   "source": [
    "### First, RREF functions are defined to check the accuracy of RREF algorithm with floating number operations"
   ]
  },
  {
   "cell_type": "code",
   "execution_count": 4,
   "metadata": {},
   "outputs": [],
   "source": [
    "#This function applies for (m,n) matrix. Elementary row op, with initial entries not normalized to 1\n",
    "def elemrowop(A,b,m,n):\n",
    "    tempA=A\n",
    "    tempb=b\n",
    "    ref=0\n",
    "    for i in range(0,n):\n",
    "        if(ref>=m):\n",
    "            break\n",
    "        if ((tempA[ref:m,i]==np.zeros((1,m-ref))).all()):\n",
    "            continue\n",
    "        for j in range(ref,m):\n",
    "            if(tempA[j,i]==0):\n",
    "                continue\n",
    "            else:\n",
    "                break\n",
    "        E1=np.eye(m,k=0,dtype=float)\n",
    "        if(ref!=j):\n",
    "            E1[ref,ref]=0;E1[j,j]=0;E1[ref,j]=1;E1[j,ref]=1\n",
    "        tempA=E1@tempA\n",
    "        tempb=E1@tempb\n",
    "        E2=np.eye(m,k=0,dtype=float)\n",
    "        for j in range(ref+1,m):\n",
    "            E2[j,ref]=-((tempA[j,i])/(tempA[ref,i]))\n",
    "        tempA=E2@tempA\n",
    "        tempb=E2@tempb\n",
    "        ref+=1\n",
    "    return tempA,tempb\n",
    "\n",
    "#This function only applies to square matrix\n",
    "def elemrowop2(A,b,n):\n",
    "    tempA=A\n",
    "    tempb=b\n",
    "    if((np.diag(A)==np.zeros((1,n))).any()):\n",
    "        print('A is singular matrix')\n",
    "        return 0,0\n",
    "    else:\n",
    "        for i in range(0,n):\n",
    "            E=np.eye(n,k=0,dtype=float)\n",
    "            for j in range(0,n-i-1):\n",
    "                E[j,n-1-i]=-tempA[j,n-1-i]/tempA[n-1-i,n-1-i]\n",
    "            tempA=E@tempA\n",
    "            tempb=E@tempb\n",
    "    return tempA,tempb\n",
    "\n",
    "#This function only applies to square matrix\n",
    "def diagop(A,b,n):\n",
    "    tempA=A\n",
    "    tempb=b\n",
    "    diag=np.eye(n,k=0,dtype=float)\n",
    "    for i in range(0,n):\n",
    "        if(tempA[i,i]==0):\n",
    "            diag[i,i]=0\n",
    "        else:\n",
    "            diag[i,i]=1/tempA[i,i]\n",
    "    tempA=diag@tempA\n",
    "    tempb=diag@tempb    \n",
    "    return tempA,tempb"
   ]
  },
  {
   "attachments": {},
   "cell_type": "markdown",
   "metadata": {},
   "source": [
    "### First, system equation is solved, with b=[1,1,...,1]"
   ]
  },
  {
   "cell_type": "code",
   "execution_count": 5,
   "metadata": {},
   "outputs": [
    {
     "name": "stdout",
     "output_type": "stream",
     "text": [
      "[[-3.09701501e+01]\n",
      " [ 4.62056986e+03]\n",
      " [-1.68550383e+05]\n",
      " [ 2.60517586e+06]\n",
      " [-2.09153105e+07]\n",
      " [ 9.47776711e+07]\n",
      " [-2.42729856e+08]\n",
      " [ 3.06278447e+08]\n",
      " [-5.44608743e+07]\n",
      " [-1.41161468e+08]\n",
      " [-5.87147030e+08]\n",
      " [ 1.88019991e+09]\n",
      " [-2.22197155e+09]\n",
      " [ 1.58653593e+09]\n",
      " [-9.00751986e+08]\n",
      " [-2.60597403e+08]\n",
      " [ 1.74660218e+09]\n",
      " [-1.96586587e+09]\n",
      " [ 9.54151252e+08]\n",
      " [-1.75383597e+08]]\n"
     ]
    }
   ],
   "source": [
    "temp=elemrowop(A,b1,n,n)\n",
    "temp=elemrowop2(temp[0],temp[1],n)\n",
    "temp=diagop(temp[0],temp[1],n)\n",
    "print(temp[1])"
   ]
  },
  {
   "attachments": {},
   "cell_type": "markdown",
   "metadata": {},
   "source": [
    "### Second, system equation is solved, with b=[0.99,0.99,...,0.99]"
   ]
  },
  {
   "cell_type": "code",
   "execution_count": 8,
   "metadata": {},
   "outputs": [
    {
     "name": "stdout",
     "output_type": "stream",
     "text": [
      "[[-3.06604492e+01]\n",
      " [ 4.57436424e+03]\n",
      " [-1.66864883e+05]\n",
      " [ 2.57912415e+06]\n",
      " [-2.07061579e+07]\n",
      " [ 9.38298971e+07]\n",
      " [-2.40302567e+08]\n",
      " [ 3.03215682e+08]\n",
      " [-5.39162894e+07]\n",
      " [-1.39749833e+08]\n",
      " [-5.81275591e+08]\n",
      " [ 1.86139798e+09]\n",
      " [-2.19975193e+09]\n",
      " [ 1.57067064e+09]\n",
      " [-8.91744461e+08]\n",
      " [-2.57991474e+08]\n",
      " [ 1.72913621e+09]\n",
      " [-1.94620724e+09]\n",
      " [ 9.44609752e+08]\n",
      " [-1.73629764e+08]]\n",
      "\n",
      "It can be analyzed that b2 is perturbed version of b1. Because of its linearity, perturbation does not effect value of solution that much.\n"
     ]
    }
   ],
   "source": [
    "temp=elemrowop(A,b2,n,n)\n",
    "temp=elemrowop2(temp[0],temp[1],n)\n",
    "temp=diagop(temp[0],temp[1],n)\n",
    "print(temp[1])\n",
    "\n",
    "print('\\nIt can be analyzed that b2 is perturbed version of b1. Because of its linearity, perturbation does not effect value of solution that much.')"
   ]
  },
  {
   "attachments": {},
   "cell_type": "markdown",
   "metadata": {},
   "source": [
    "### Sympy library was implemented and specific code was given below to calculate the solution of this system. But because of its dimension size, calculation continues  \n",
    "### in endless time. So sympy libray calculation is not done in this example, and related codes are deleted in this file."
   ]
  }
 ],
 "metadata": {
  "kernelspec": {
   "display_name": "base",
   "language": "python",
   "name": "python3"
  },
  "language_info": {
   "codemirror_mode": {
    "name": "ipython",
    "version": 3
   },
   "file_extension": ".py",
   "mimetype": "text/x-python",
   "name": "python",
   "nbconvert_exporter": "python",
   "pygments_lexer": "ipython3",
   "version": "3.9.13"
  },
  "orig_nbformat": 4
 },
 "nbformat": 4,
 "nbformat_minor": 2
}

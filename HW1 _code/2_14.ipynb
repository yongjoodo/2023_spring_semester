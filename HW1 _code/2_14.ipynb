{
 "cells": [
  {
   "attachments": {},
   "cell_type": "markdown",
   "metadata": {},
   "source": [
    "## 2.14 (C) \n",
    "### Moler matrix is refered from rogues library"
   ]
  },
  {
   "cell_type": "code",
   "execution_count": 1,
   "metadata": {},
   "outputs": [
    {
     "name": "stderr",
     "output_type": "stream",
     "text": [
      "/Users/doyongjoo/opt/anaconda3/lib/python3.9/site-packages/scipy/__init__.py:146: UserWarning: A NumPy version >=1.16.5 and <1.23.0 is required for this version of SciPy (detected version 1.24.2\n",
      "  warnings.warn(f\"A NumPy version >={np_minversion} and <{np_maxversion}\"\n"
     ]
    }
   ],
   "source": [
    "\"\"\"\n",
    "The \"rogues\" module is a reimplementation of Nick Higham's test matrices into\n",
    "Python, Numpy, and Scipy.  They were generally ported by using the\n",
    "iPython shell.  They were developed from Version 3 (1995) of the test\n",
    "matrix package from code downloaded from Higham's web site.  Also,\n",
    "the earlier TOMS 694 version was used as reference in some cases.\n",
    "That code was download from netlib.  Both of these packages were\n",
    "accessed in February of 2009.\n",
    "Also included are a small number of routines from Nick Higham's matrixcomp\n",
    "library as well as several required functions that had no implementations.\n",
    "Some of the issues in porting to numpy from m*lab\n",
    "    * numpy arrays have zero based array indexing while m*lab has one's\n",
    "      based array indexing\n",
    "    * numpy / python has indexing that does not include the upper end of\n",
    "      the specified range, e.g. a[0:n]  is  a[0], a[1], ..., a[n-1].  This\n",
    "      is different from m*lab\n",
    "    * Of course, it is much easier to handle default values on the input\n",
    "      parameters in Python\n",
    "    * Element by element operation is the default in numpy.  To get the\n",
    "      matrix behavior, the array must be converted to matrices.  Also,\n",
    "      when dealing with arrays, we do not need to use the dot notation of\n",
    "      m*lab  (ie x./y).  Also numpy has the a concept called broadcasting\n",
    "      so that we can write and expression such as 1/x  which, if x is a\n",
    "      array becomes  [[1/x[0,0], 1/x[0,1], ... rather than ones(n,n)./x\n",
    "    * Some of the numpy functions take tuples for the shapes of arrays\n",
    "      (notably zeros, ones, etc) while others do not (random.randn())\n",
    "    * The m*lab routines that take matrix size arguments generally assume\n",
    "      that a single dimension, say n, means the matrix is square, say n by n.\n",
    "      This means that when you want a vector, you have to give the function\n",
    "      _two_ arguments ie say zeros(n,1) or ones(1,n) etc. In numpy, one\n",
    "      dimension is the default and we use zeros(n) etc.  When we need a\n",
    "      two dimensional array we use zeros((m,n))\n",
    "      \n",
    "Comments and references were mostly preserved in the functions.  They were\n",
    "slightly updated to reflect the changes necessary in Python\n",
    "The inluded matrix generation functions are:\n",
    "   cauchy\n",
    "   chebspec\n",
    "   chebvand\n",
    "   chow\n",
    "   clement\n",
    "   comp\n",
    "   compan\n",
    "   condex\n",
    "   cycol\n",
    "   dingdong\n",
    "   dorr\n",
    "   dramadah\n",
    "   fiedler\n",
    "   forsythe\n",
    "   frank\n",
    "   gearm\n",
    "   gfpp\n",
    "   grcar\n",
    "   hadamard\n",
    "   hankel\n",
    "   hanowa\n",
    "   hilb\n",
    "   invhess\n",
    "   invol\n",
    "   ipjfact\n",
    "   jordbloc\n",
    "   kahan\n",
    "   kms\n",
    "   krylov\n",
    "   lauchli\n",
    "   lehmer\n",
    "   lesp\n",
    "   lotkin\n",
    "   minij\n",
    "   moler\n",
    "   neumann\n",
    "   ohess\n",
    "   parter\n",
    "   pascal\n",
    "   pdtoep\n",
    "   pei\n",
    "   pentoep\n",
    "   poisson\n",
    "   prolate\n",
    "   qmult\n",
    "   rando\n",
    "   randsvd\n",
    "   redheff\n",
    "   riemann\n",
    "   rogues\n",
    "   smoke\n",
    "   test\n",
    "   triw\n",
    "   wathen\n",
    "   wilk\n",
    "   wilkinson\n",
    "Some of generally useful matrix utility functions:\n",
    "   augment\n",
    "   bandred\n",
    "   cgs\n",
    "   cond\n",
    "   condeig\n",
    "   cpltaxes\n",
    "   dual\n",
    "   ge\n",
    "   hankel\n",
    "   house\n",
    "   mdsmax\n",
    "   mgs\n",
    "   pow2\n",
    "   ps\n",
    "   repmat\n",
    "   rq\n",
    "   skewpart\n",
    "   sparsify\n",
    "   sub\n",
    "   symmpart\n",
    "   toeplitz\n",
    "   treshape\n",
    "   tridiag\n",
    "   vand\n",
    "   vecperm\n",
    "   More information is available on any of these functions by typing\n",
    "   \"help <funcname>\"\n",
    "   \n",
    "Don MacMillen 1 August 2018\n",
    "\"\"\"\n",
    "name = \"rogues\"\n",
    "\n",
    "__version__ = \"0.5.0\"\n",
    "   \n",
    "from rogues.matrices import *\n",
    "from rogues.utils import *"
   ]
  },
  {
   "cell_type": "code",
   "execution_count": 2,
   "metadata": {},
   "outputs": [],
   "source": [
    "import numpy as np\n",
    "from rogues.matrices.triw import triw\n",
    "\n",
    "\n",
    "def moler(n, alpha=-1):\n",
    "    \"\"\"\n",
    "    MOLER   Moler matrix - symmetric positive definite.\n",
    "        A = MOLER(N, ALPHA) is the symmetric positive definite N-by-N matrix\n",
    "        U'*U where U = TRIW(N, ALPHA).\n",
    "        For ALPHA = -1 (the default) A(i,j) = MIN(i,j)-2, A(i,i) = i.\n",
    "        A has one small eigenvalue.\n",
    "        Nash (1990) attributes the ALPHA = -1 matrix to Moler.\n",
    "        Reference:\n",
    "        J.C. Nash, Compact Numerical Methods for Computers: Linear\n",
    "        Algebra and Function Minimisation, second edition, Adam Hilger,\n",
    "        Bristol, 1990 (Appendix 1).\n",
    "    \"\"\"\n",
    "    a = np.matrix(triw(n, alpha).T) * np.matrix(triw(n, alpha))\n",
    "    return np.asarray(a)"
   ]
  },
  {
   "cell_type": "code",
   "execution_count": 5,
   "metadata": {},
   "outputs": [
    {
     "name": "stdout",
     "output_type": "stream",
     "text": [
      "[[ 1. -1. -1. -1. -1.]\n",
      " [-1.  2.  0.  0.  0.]\n",
      " [-1.  0.  3.  1.  1.]\n",
      " [-1.  0.  1.  4.  2.]\n",
      " [-1.  0.  1.  2.  5.]]\n"
     ]
    }
   ],
   "source": [
    "from rogues.matrices import moler\n",
    "A=moler(5)\n",
    "ans=np.zeros((5,5))\n",
    "print(A)"
   ]
  },
  {
   "cell_type": "code",
   "execution_count": 7,
   "metadata": {},
   "outputs": [
    {
     "name": "stdout",
     "output_type": "stream",
     "text": [
      "[[ 1.  0.  0.  0.  0.]\n",
      " [-1.  1.  0.  0.  0.]\n",
      " [-1. -1.  1.  0.  0.]\n",
      " [-1. -1. -1.  1.  0.]\n",
      " [-1. -1. -1. -1.  1.]]\n"
     ]
    }
   ],
   "source": [
    "import numpy as np\n",
    "R=np.linalg.cholesky(A)\n",
    "print(R)"
   ]
  },
  {
   "cell_type": "code",
   "execution_count": 12,
   "metadata": {},
   "outputs": [
    {
     "name": "stdout",
     "output_type": "stream",
     "text": [
      "Decomposition is well done\n"
     ]
    }
   ],
   "source": [
    "#testing whether cholesky decomposition is well done\n",
    "Atest=R@np.transpose(R)\n",
    "if((A==Atest).all()):\n",
    "    print('Decomposition is well done')\n",
    "else:\n",
    "    print('You did something wrong')"
   ]
  }
 ],
 "metadata": {
  "kernelspec": {
   "display_name": "base",
   "language": "python",
   "name": "python3"
  },
  "language_info": {
   "codemirror_mode": {
    "name": "ipython",
    "version": 3
   },
   "file_extension": ".py",
   "mimetype": "text/x-python",
   "name": "python",
   "nbconvert_exporter": "python",
   "pygments_lexer": "ipython3",
   "version": "3.9.12"
  },
  "orig_nbformat": 4
 },
 "nbformat": 4,
 "nbformat_minor": 2
}

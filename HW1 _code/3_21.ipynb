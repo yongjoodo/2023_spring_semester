{
 "cells": [
  {
   "attachments": {},
   "cell_type": "markdown",
   "metadata": {},
   "source": [
    "# Problem 3.21"
   ]
  },
  {
   "cell_type": "code",
   "execution_count": 1,
   "metadata": {},
   "outputs": [],
   "source": [
    "import numpy as np\n",
    "\n",
    "A=np.array([[1, 2, 3, 4],\n",
    "            [5, 6, 7, 8],\n",
    "            [9, 10, 11, 12],\n",
    "            [13, 14, 15, 16]])\n",
    "B=np.array([[-1, 1, 2],\n",
    "            [4, 5, 6],\n",
    "            [7, 8, 9],\n",
    "            [10, 11, 12]])"
   ]
  },
  {
   "cell_type": "code",
   "execution_count": 2,
   "metadata": {},
   "outputs": [],
   "source": [
    "#This function applies for (m,n) matrix. Elementary row op, with initial entries not normalized to 1\n",
    "def elemrowop(A,m,n):\n",
    "    tempA=A\n",
    "    ref=0\n",
    "    for i in range(0,n):\n",
    "        if(ref>=m):\n",
    "            break\n",
    "        if ((tempA[ref:m,i]==np.zeros((1,m-ref))).all()):\n",
    "            continue\n",
    "        for j in range(ref,m):\n",
    "            if(tempA[j,i]==0):\n",
    "                continue\n",
    "            else:\n",
    "                break\n",
    "        E1=np.eye(m,k=0,dtype=float)\n",
    "        if(ref!=j):\n",
    "            E1[ref,ref]=0;E1[j,j]=0;E1[ref,j]=1;E1[j,ref]=1\n",
    "        tempA=E1@tempA\n",
    "        E2=np.eye(m,k=0,dtype=float)\n",
    "        for j in range(ref+1,m):\n",
    "            E2[j,ref]=-((tempA[j,i])/(tempA[ref,i]))\n",
    "        tempA=E2@tempA\n",
    "        ref+=1\n",
    "    return tempA\n",
    "\n",
    "#Function for rank of (m,n) matrix\n",
    "def rank(A,m,n):\n",
    "    tempA=A\n",
    "    rankA=0\n",
    "    for i in range(0,m):\n",
    "        for j in range(0,n):\n",
    "            if(abs(tempA[i,j])<=1e-10):tempA[i,j]=0\n",
    "    if(m>=n):\n",
    "        for i in range(0,m):\n",
    "            if((tempA[i,:]!=np.zeros((1,n),dtype=float)).any()):\n",
    "                rankA+=1\n",
    "    else:\n",
    "        for j in range(0,n):\n",
    "            if((tempA[:,j]!=np.zeros((1,m),dtype=float)).any()):\n",
    "                rankA+=1\n",
    "    return rankA\n",
    "        \n",
    "\n",
    "\n"
   ]
  },
  {
   "attachments": {},
   "cell_type": "markdown",
   "metadata": {},
   "source": [
    "## (a)"
   ]
  },
  {
   "cell_type": "code",
   "execution_count": 3,
   "metadata": {},
   "outputs": [
    {
     "name": "stdout",
     "output_type": "stream",
     "text": [
      "[[  1.   2.   3.   4.]\n",
      " [  0.  -4.  -8. -12.]\n",
      " [  0.   0.   0.   0.]\n",
      " [  0.   0.   0.   0.]]\n",
      "[[-1.          1.          2.        ]\n",
      " [ 0.          9.         14.        ]\n",
      " [ 0.          0.         -0.33333333]\n",
      " [ 0.          0.          0.        ]]\n"
     ]
    }
   ],
   "source": [
    "elemrowopA=elemrowop(A,4,4)\n",
    "print(elemrowopA)\n",
    "elemrowopB=elemrowop(B,4,3)\n",
    "print(elemrowopB)"
   ]
  },
  {
   "cell_type": "code",
   "execution_count": 4,
   "metadata": {},
   "outputs": [
    {
     "name": "stdout",
     "output_type": "stream",
     "text": [
      "rank of matrix A is 2\n",
      "rank of matrix B is 3\n"
     ]
    }
   ],
   "source": [
    "rkA=rank(elemrowopA,4,4)\n",
    "rkB=rank(elemrowopB,4,3)\n",
    "print('rank of matrix A is %d'%(rkA))\n",
    "print('rank of matrix B is %d'%(rkB))"
   ]
  },
  {
   "attachments": {},
   "cell_type": "markdown",
   "metadata": {},
   "source": [
    "## (b)"
   ]
  },
  {
   "cell_type": "code",
   "execution_count": 5,
   "metadata": {},
   "outputs": [
    {
     "name": "stdout",
     "output_type": "stream",
     "text": [
      "rank of matrix AtA is 2\n",
      "rank of matrix BtB is 3\n"
     ]
    }
   ],
   "source": [
    "AtA=np.transpose(A)@A\n",
    "BtB=np.transpose(B)@B\n",
    "temp1=elemrowop(AtA,4,4)\n",
    "temp2=elemrowop(BtB,3,3)\n",
    "rkAtA=rank(temp1,4,4)\n",
    "rkBtB=rank(temp2,3,3)\n",
    "print('rank of matrix AtA is %d'%(rkAtA))\n",
    "print('rank of matrix BtB is %d'%(rkBtB))"
   ]
  }
 ],
 "metadata": {
  "kernelspec": {
   "display_name": "base",
   "language": "python",
   "name": "python3"
  },
  "language_info": {
   "codemirror_mode": {
    "name": "ipython",
    "version": 3
   },
   "file_extension": ".py",
   "mimetype": "text/x-python",
   "name": "python",
   "nbconvert_exporter": "python",
   "pygments_lexer": "ipython3",
   "version": "3.9.13"
  },
  "orig_nbformat": 4
 },
 "nbformat": 4,
 "nbformat_minor": 2
}

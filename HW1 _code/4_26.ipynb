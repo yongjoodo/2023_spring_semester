{
 "cells": [
  {
   "attachments": {},
   "cell_type": "markdown",
   "metadata": {},
   "source": [
    "# Problem 4.26"
   ]
  },
  {
   "cell_type": "code",
   "execution_count": 1,
   "metadata": {},
   "outputs": [],
   "source": [
    "import numpy as np\n",
    "from sympy import Matrix,pprint\n",
    "\n",
    "#Definig rosser matrix\n",
    "A=np.array([[611, 196, -192, 407, -8, -52, -49, 29],\n",
    "   [196, 899, 113, -192, -71, -43, -8, -44],\n",
    "   [-192, 113, 899, 196, 61, 49, 8, 52],\n",
    "   [407, -192, 196, 611, 8, 44, 59, -23],\n",
    "   [-8, -71, 61, 8, 411, -599, 208, 208],\n",
    "   [-52, -43, 49, 44, -599, 411, 208, 208],\n",
    "   [-49, -8, 8, 59, 208, 208, 99, -911],\n",
    "   [29, -44, 52, -23, 208, 208, -911, 99]])"
   ]
  },
  {
   "cell_type": "code",
   "execution_count": 2,
   "metadata": {},
   "outputs": [],
   "source": [
    "#This function applies for (m,n) matrix. Elementary row op, with initial entries not normalized to 1\n",
    "def elemrowop(A,m,n):\n",
    "    tempA=A\n",
    "    ref=0\n",
    "    for i in range(0,n):\n",
    "        if(ref>=m):\n",
    "            break\n",
    "        if ((tempA[ref:m,i]==np.zeros((1,m-ref))).all()):\n",
    "            continue\n",
    "        for j in range(ref,m):\n",
    "            if(tempA[j,i]==0):\n",
    "                continue\n",
    "            else:\n",
    "                break\n",
    "        E1=np.eye(m,k=0,dtype=float)\n",
    "        if(ref!=j):\n",
    "            E1[ref,ref]=0;E1[j,j]=0;E1[ref,j]=1;E1[j,ref]=1\n",
    "        tempA=E1@tempA\n",
    "        E2=np.eye(m,k=0,dtype=float)\n",
    "        for j in range(ref+1,m):\n",
    "            E2[j,ref]=-((tempA[j,i])/(tempA[ref,i]))\n",
    "        tempA=E2@tempA\n",
    "        ref+=1\n",
    "    return tempA\n",
    "\n",
    "#Function for rank of (m,n) matrix\n",
    "def rank(A,m,n):\n",
    "    tempA=A\n",
    "    rankA=0\n",
    "    for i in range(0,m):\n",
    "        for j in range(0,n):\n",
    "            if(abs(tempA[i,j])<=1e-10):tempA[i,j]=0\n",
    "    if(m>=n):\n",
    "        for i in range(0,m):\n",
    "            if((tempA[i,:]!=np.zeros((1,n),dtype=float)).any()):\n",
    "                rankA+=1\n",
    "    else:\n",
    "        for j in range(0,n):\n",
    "            if((tempA[:,j]!=np.zeros((1,m),dtype=float)).any()):\n",
    "                rankA+=1\n",
    "    return rankA\n",
    "\n",
    "#Function for determinant of a matrix\n",
    "def determinant(A,n):\n",
    "    tempA=A\n",
    "    ref=0\n",
    "    sgn=0\n",
    "    det=1\n",
    "    for i in range(0,n):\n",
    "        if(ref>=n):\n",
    "            break\n",
    "        if ((tempA[ref:n,i]==np.zeros((1,n-ref))).all()):\n",
    "            continue\n",
    "        for j in range(ref,n):\n",
    "            if(tempA[j,i]==0):\n",
    "                continue\n",
    "            else:\n",
    "                break\n",
    "        E1=np.eye(n,k=0,dtype=float)\n",
    "        if(ref!=j):\n",
    "            E1[ref,ref]=0;E1[j,j]=0;E1[ref,j]=1;E1[j,ref]=1\n",
    "            sgn+=1\n",
    "        tempA=E1@tempA\n",
    "        E2=np.eye(n,k=0,dtype=float)\n",
    "        for j in range(ref+1,n):\n",
    "            E2[j,ref]=-((tempA[j,i])/(tempA[ref,i]))\n",
    "        tempA=E2@tempA\n",
    "        ref+=1\n",
    "\n",
    "    #diagonal product\n",
    "    for i in range(0,n):\n",
    "        det*=tempA[i,i]\n",
    "    det=det*pow(-1,sgn)\n",
    "\n",
    "    return det\n",
    "\n",
    "#Function for determinant of a matrix, with float error elliminated\n",
    "def determinant_enhanced(A,n):\n",
    "    tempA=A\n",
    "    ref=0\n",
    "    sgn=0\n",
    "    det=1\n",
    "    for i in range(0,n):\n",
    "        if(ref>=n):\n",
    "            break\n",
    "        if ((tempA[ref:n,i]==np.zeros((1,n-ref))).all()):\n",
    "            continue\n",
    "        for j in range(ref,n):\n",
    "            if(tempA[j,i]==0):\n",
    "                continue\n",
    "            else:\n",
    "                break\n",
    "        E1=np.eye(n,k=0,dtype=float)\n",
    "        if(ref!=j):\n",
    "            E1[ref,ref]=0;E1[j,j]=0;E1[ref,j]=1;E1[j,ref]=1\n",
    "            sgn+=1\n",
    "        tempA=E1@tempA\n",
    "        E2=np.eye(n,k=0,dtype=float)\n",
    "        for j in range(ref+1,n):\n",
    "            E2[j,ref]=-((tempA[j,i])/(tempA[ref,i]))\n",
    "        tempA=E2@tempA\n",
    "        ref+=1\n",
    "\n",
    "    #elliminating errors from float operation during row operation\n",
    "    for i in range(0,n):\n",
    "        for j in range(0,n):\n",
    "            if(abs(tempA[i,j])<=1e-10):tempA[i,j]=0\n",
    "    \n",
    "    #diagonal product\n",
    "    for i in range(0,n):\n",
    "        det*=tempA[i,i]\n",
    "    det=det*pow(-1,sgn)\n",
    "    \n",
    "    return det"
   ]
  },
  {
   "attachments": {},
   "cell_type": "markdown",
   "metadata": {},
   "source": [
    "## (a)"
   ]
  },
  {
   "cell_type": "code",
   "execution_count": 3,
   "metadata": {},
   "outputs": [
    {
     "name": "stdout",
     "output_type": "stream",
     "text": [
      "[[ 6.11000000e+02  1.96000000e+02 -1.92000000e+02  4.07000000e+02\n",
      "  -8.00000000e+00 -5.20000000e+01 -4.90000000e+01  2.90000000e+01]\n",
      " [ 0.00000000e+00  8.36126023e+02  1.74590835e+02 -3.22559738e+02\n",
      "  -6.84337152e+01 -2.63191489e+01  7.71849427e+00 -5.33027823e+01]\n",
      " [ 0.00000000e+00  0.00000000e+00  8.02209943e+02  3.91248706e+02\n",
      "   7.27756801e+01  3.81552558e+01 -9.00940155e+00  7.22430428e+01]\n",
      " [-5.68434189e-14  0.00000000e+00  0.00000000e+00  2.46346633e+01\n",
      "  -4.85650008e+01  4.98760893e+01  9.90115741e+01 -9.81145136e+01]\n",
      " [-1.12061636e-13  0.00000000e+00  0.00000000e+00  0.00000000e+00\n",
      "   3.02950592e+02 -5.06970200e+02  4.03999806e+02  4.03940982e+00]\n",
      " [-7.24417160e-14  0.00000000e+00  0.00000000e+00  0.00000000e+00\n",
      "   0.00000000e+00 -5.45434558e+02  6.80109593e+02  4.10759523e+02]\n",
      " [ 2.87576194e-13  0.00000000e+00  0.00000000e+00  0.00000000e+00\n",
      "   0.00000000e+00  0.00000000e+00  6.23456639e+00 -6.23456639e+00]\n",
      " [ 8.12048841e-15  0.00000000e+00  0.00000000e+00  0.00000000e+00\n",
      "   0.00000000e+00  0.00000000e+00  0.00000000e+00  1.53477231e-12]]\n",
      "\n",
      "rank of rosser matrix is 7, which means that rosser matrix is singular\n"
     ]
    }
   ],
   "source": [
    "tempA=elemrowop(A,8,8)\n",
    "print(tempA)\n",
    "rkA=rank(tempA,8,8)\n",
    "print('\\nrank of rosser matrix is %d, which means that rosser matrix is singular'%(rkA))"
   ]
  },
  {
   "attachments": {},
   "cell_type": "markdown",
   "metadata": {},
   "source": [
    "## (b)\n",
    "### Deterninant is calculated at this section. Because of floating error problem, determinant algorithm using RREF is not accurate enough to calculate exact determinant value of rosser matrix. Therefore, 'enhanced determinant function' is newly defined, in which assumes number smaller that e-11 as 0."
   ]
  },
  {
   "cell_type": "code",
   "execution_count": 4,
   "metadata": {},
   "outputs": [
    {
     "name": "stdout",
     "output_type": "stream",
     "text": [
      "determinant of matrix A from float row operation is -15962.918155 : not a correct output\n",
      "determinant of matrix A from float row operation using error reduction is -0.000000 : correct output\n"
     ]
    }
   ],
   "source": [
    "detA=determinant(A,8)\n",
    "detA1=determinant_enhanced(A,8)\n",
    "print('determinant of matrix A from float row operation is %f : not a correct output'%(detA))\n",
    "print('determinant of matrix A from float row operation using error reduction is %f : correct output'%(detA1))"
   ]
  },
  {
   "attachments": {},
   "cell_type": "markdown",
   "metadata": {},
   "source": [
    "## (c)"
   ]
  },
  {
   "cell_type": "code",
   "execution_count": 39,
   "metadata": {},
   "outputs": [
    {
     "name": "stdout",
     "output_type": "stream",
     "text": [
      "determinant of matrix A from sympy library is 0\n"
     ]
    }
   ],
   "source": [
    "H6=Matrix(A)\n",
    "\n",
    "detA=H6.det()\n",
    "print('determinant of matrix A from sympy library is %d'%(detA))"
   ]
  }
 ],
 "metadata": {
  "kernelspec": {
   "display_name": "base",
   "language": "python",
   "name": "python3"
  },
  "language_info": {
   "codemirror_mode": {
    "name": "ipython",
    "version": 3
   },
   "file_extension": ".py",
   "mimetype": "text/x-python",
   "name": "python",
   "nbconvert_exporter": "python",
   "pygments_lexer": "ipython3",
   "version": "3.9.13"
  },
  "orig_nbformat": 4
 },
 "nbformat": 4,
 "nbformat_minor": 2
}

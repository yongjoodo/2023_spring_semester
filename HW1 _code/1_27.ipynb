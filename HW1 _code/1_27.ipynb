{
 "cells": [
  {
   "attachments": {},
   "cell_type": "markdown",
   "metadata": {},
   "source": [
    "# Problem 1.27\n",
    "## Finding inverse matrix using row reduced echelon form\n",
    "We will only use Numpy Library to formulate array structure. Main idea is to implement rref algorithm to below function  \n",
    "defined as 'elemrowop', 'elemrowop2', and 'diagop'"
   ]
  },
  {
   "cell_type": "code",
   "execution_count": 2,
   "metadata": {},
   "outputs": [
    {
     "name": "stdout",
     "output_type": "stream",
     "text": [
      "[[  1   3  -1  -9]\n",
      " [  0   3   0   1]\n",
      " [ 12   8 -11   0]\n",
      " [  2   1   5   3]]\n",
      "[[ 0.02003339 -0.22287145  0.05926544  0.13439065]\n",
      " [ 0.03422371  0.30676127 -0.00292154  0.00041736]\n",
      " [ 0.04674457 -0.02003339 -0.02838063  0.14691152]\n",
      " [-0.10267112  0.07971619  0.00876461 -0.00125209]]\n",
      "[[1 0 0 0]\n",
      " [0 1 0 0]\n",
      " [0 0 1 0]\n",
      " [0 0 0 1]]\n"
     ]
    }
   ],
   "source": [
    "import numpy as np\n",
    "\n",
    "A=np.array([[1,3,-1,-9],[0,3,0,1],[12,8,-11,0],[2,1,5,3]])\n",
    "print(A)\n",
    "Ainv=np.linalg.inv(A)\n",
    "print(Ainv)\n",
    "\n",
    "I=np.diag([1,1,1,1])\n",
    "print(I)\n"
   ]
  },
  {
   "attachments": {},
   "cell_type": "markdown",
   "metadata": {},
   "source": [
    "### Function Definition for calculation of inverse matrix"
   ]
  },
  {
   "cell_type": "code",
   "execution_count": 18,
   "metadata": {},
   "outputs": [],
   "source": [
    "#This function applies for (m,n) matrix. Elementary row op, with initial entries not normalized to 1\n",
    "def elemrowop(A,I,m,n):\n",
    "    tempA=A\n",
    "    tempI=I\n",
    "    ref=0\n",
    "    for i in range(0,n):\n",
    "        if(ref>=m):\n",
    "            break\n",
    "        if ((tempA[ref:m,i]==np.zeros((1,m-ref))).all()):\n",
    "            continue\n",
    "        for j in range(ref,m):\n",
    "            if(tempA[j,i]==0):\n",
    "                continue\n",
    "            else:\n",
    "                break\n",
    "        E1=np.eye(m,k=0,dtype=float)\n",
    "        if(ref!=j):\n",
    "            E1[ref,ref]=0;E1[j,j]=0;E1[ref,j]=1;E1[j,ref]=1\n",
    "        tempA=E1@tempA\n",
    "        tempI=E1@tempI\n",
    "        E2=np.eye(m,k=0,dtype=float)\n",
    "        for j in range(ref+1,m):\n",
    "            E2[j,ref]=-((tempA[j,i])/(tempA[ref,i]))\n",
    "        tempA=E2@tempA\n",
    "        tempI=E2@tempI\n",
    "        ref+=1\n",
    "    return tempA,tempI\n",
    "\n",
    "#This function only applies to square matrix\n",
    "def elemrowop2(A,I,n):\n",
    "    tempA=A\n",
    "    tempI=I\n",
    "    if((np.diag(A)==np.zeros((1,n))).any()):\n",
    "        print('A is singular matrix')\n",
    "        return 0,0\n",
    "    else:\n",
    "        for i in range(0,n):\n",
    "            E=np.eye(n,k=0,dtype=float)\n",
    "            for j in range(0,n-i-1):\n",
    "                E[j,n-1-i]=-tempA[j,n-1-i]/tempA[n-1-i,n-1-i]\n",
    "            tempA=E@tempA\n",
    "            tempI=E@tempI\n",
    "    return tempA,tempI\n",
    "\n",
    "#Not used in this class, but implemented column operation, just in case for the future\n",
    "#This function applies for (m,n) matrix. Elementary column op, with initial entries not normalized to 1\n",
    "def elemcolop(A,I,m,n):\n",
    "    tempA=A\n",
    "    tempI=I\n",
    "    ref=0\n",
    "    for i in range(0,n):\n",
    "        if(ref>=n):\n",
    "            break\n",
    "        if ((tempA[i,ref:n]==np.zeros((1,n-ref))).all()):\n",
    "            continue\n",
    "        for j in range(ref,n):\n",
    "            if(tempA[i,j]==0):\n",
    "                continue\n",
    "            else:\n",
    "                break\n",
    "        E1=np.eye(n,k=0,dtype=float)\n",
    "        if(ref!=j):\n",
    "            E1[ref,ref]=0;E1[j,j]=0;E1[ref,j]=1;E1[j,ref]=1\n",
    "        tempA=tempA@E1\n",
    "        tempI=tempI@E1\n",
    "        E2=np.eye(n,k=0,dtype=float)\n",
    "        for j in range(ref+1,n):\n",
    "            E2[ref,j]=-((tempA[i,j])/(tempA[i,ref]))\n",
    "        tempA=tempA@E2\n",
    "        tempI=tempI@E2\n",
    "        ref+=1\n",
    "    return tempA,tempI\n",
    "\n",
    "#This function only applies to square matrix\n",
    "def diagop(A,I,n):\n",
    "    tempA=A\n",
    "    tempI=I\n",
    "    diag=np.eye(n,k=0,dtype=float)\n",
    "    for i in range(0,n):\n",
    "        if(tempA[i,i]==0):\n",
    "            diag[i,i]=0\n",
    "        else:\n",
    "            diag[i,i]=1/tempA[i,i]\n",
    "    tempA=diag@tempA\n",
    "    tempI=diag@tempI    \n",
    "    return tempA,tempI\n",
    "    \n"
   ]
  },
  {
   "attachments": {},
   "cell_type": "markdown",
   "metadata": {},
   "source": [
    "### The result is shown as below."
   ]
  },
  {
   "cell_type": "code",
   "execution_count": 19,
   "metadata": {},
   "outputs": [
    {
     "name": "stdout",
     "output_type": "stream",
     "text": [
      "[[ 0.02003339 -0.22287145  0.05926544  0.13439065]\n",
      " [ 0.03422371  0.30676127 -0.00292154  0.00041736]\n",
      " [ 0.04674457 -0.02003339 -0.02838063  0.14691152]\n",
      " [-0.10267112  0.07971619  0.00876461 -0.00125209]]\n"
     ]
    }
   ],
   "source": [
    "temp=elemrowop(A,I,4,4)\n",
    "temp=elemrowop2(temp[0],temp[1],4)\n",
    "temp=diagop(temp[0],temp[1],4)\n",
    "print(temp[1])"
   ]
  },
  {
   "attachments": {},
   "cell_type": "markdown",
   "metadata": {},
   "source": [
    "### This calculation is double checked by inverse matrix function defined on Numpy library"
   ]
  },
  {
   "cell_type": "code",
   "execution_count": 4,
   "metadata": {},
   "outputs": [
    {
     "name": "stdout",
     "output_type": "stream",
     "text": [
      "[[ 0.02003339 -0.22287145  0.05926544  0.13439065]\n",
      " [ 0.03422371  0.30676127 -0.00292154  0.00041736]\n",
      " [ 0.04674457 -0.02003339 -0.02838063  0.14691152]\n",
      " [-0.10267112  0.07971619  0.00876461 -0.00125209]]\n"
     ]
    }
   ],
   "source": [
    "Ainv=np.linalg.inv(A)\n",
    "print(Ainv)"
   ]
  }
 ],
 "metadata": {
  "kernelspec": {
   "display_name": "base",
   "language": "python",
   "name": "python3"
  },
  "language_info": {
   "codemirror_mode": {
    "name": "ipython",
    "version": 3
   },
   "file_extension": ".py",
   "mimetype": "text/x-python",
   "name": "python",
   "nbconvert_exporter": "python",
   "pygments_lexer": "ipython3",
   "version": "3.9.13"
  },
  "orig_nbformat": 4
 },
 "nbformat": 4,
 "nbformat_minor": 2
}

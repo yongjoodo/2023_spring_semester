{
 "cells": [
  {
   "attachments": {},
   "cell_type": "markdown",
   "metadata": {},
   "source": [
    "# Poblem 1.28\n",
    "## inverse of Hilbert Matrix and its calculation using RREF and Sympy library\n",
    "Hilbert matrix is well-known square matrix for its distinctive characteristics compared with other matrices. It is well known that elements of its  \n",
    "inverse matrix only consists of integers. In this problem, this statement will be checked with numerical calculation.\n",
    "\n",
    "### First, we will import numpy to use array structure, and we will also import sympy, which operates similarily compared with symbolic toolbox in MATLAB."
   ]
  },
  {
   "cell_type": "code",
   "execution_count": 1,
   "metadata": {},
   "outputs": [],
   "source": [
    "import numpy as np\n",
    "from sympy import Matrix, pprint\n",
    "\n",
    "A=np.zeros((6,6))\n",
    "for i in range(0,6):\n",
    "    for j in range(0,6):\n",
    "        A[i,j]=1/(i+j+1)\n",
    "I=np.eye(6,k=0,dtype=float)"
   ]
  },
  {
   "attachments": {},
   "cell_type": "markdown",
   "metadata": {},
   "source": [
    "### First, RREF functions are defined to check the accuracy of RREF algorithm with floating number operations"
   ]
  },
  {
   "cell_type": "code",
   "execution_count": 2,
   "metadata": {},
   "outputs": [],
   "source": [
    "#This function applies for (m,n) matrix. Elementary row op, with initial entries not normalized to 1\n",
    "def elemrowop(A,I,m,n):\n",
    "    tempA=A\n",
    "    tempI=I\n",
    "    ref=0\n",
    "    for i in range(0,n):\n",
    "        if(ref>=m):\n",
    "            break\n",
    "        if ((tempA[ref:m,i]==np.zeros((1,m-ref))).all()):\n",
    "            continue\n",
    "        for j in range(ref,m):\n",
    "            if(tempA[j,i]==0):\n",
    "                continue\n",
    "            else:\n",
    "                break\n",
    "        E1=np.eye(m,k=0,dtype=float)\n",
    "        if(ref!=j):\n",
    "            E1[ref,ref]=0;E1[j,j]=0;E1[ref,j]=1;E1[j,ref]=1\n",
    "        tempA=E1@tempA\n",
    "        tempI=E1@tempI\n",
    "        E2=np.eye(m,k=0,dtype=float)\n",
    "        for j in range(ref+1,m):\n",
    "            E2[j,ref]=-((tempA[j,i])/(tempA[ref,i]))\n",
    "        tempA=E2@tempA\n",
    "        tempI=E2@tempI\n",
    "        ref+=1\n",
    "    return tempA,tempI\n",
    "\n",
    "#This function only applies to square matrix\n",
    "def elemrowop2(A,I,n):\n",
    "    tempA=A\n",
    "    tempI=I\n",
    "    if((np.diag(A)==np.zeros((1,n))).any()):\n",
    "        print('A is singular matrix')\n",
    "        return 0,0\n",
    "    else:\n",
    "        for i in range(0,n):\n",
    "            E=np.eye(n,k=0,dtype=float)\n",
    "            for j in range(0,n-i-1):\n",
    "                E[j,n-1-i]=-tempA[j,n-1-i]/tempA[n-1-i,n-1-i]\n",
    "            tempA=E@tempA\n",
    "            tempI=E@tempI\n",
    "    return tempA,tempI\n",
    "\n",
    "#This function only applies to square matrix\n",
    "def diagop(A,I,n):\n",
    "    tempA=A\n",
    "    tempI=I\n",
    "    diag=np.eye(n,k=0,dtype=float)\n",
    "    for i in range(0,n):\n",
    "        if(tempA[i,i]==0):\n",
    "            diag[i,i]=0\n",
    "        else:\n",
    "            diag[i,i]=1/tempA[i,i]\n",
    "    tempA=diag@tempA\n",
    "    tempI=diag@tempI    \n",
    "    return tempA,tempI"
   ]
  },
  {
   "attachments": {},
   "cell_type": "markdown",
   "metadata": {},
   "source": [
    "### Then, inverse of H5 matrix is calculated, using RREF algorithm."
   ]
  },
  {
   "cell_type": "code",
   "execution_count": 6,
   "metadata": {},
   "outputs": [
    {
     "name": "stdout",
     "output_type": "stream",
     "text": [
      "[[ 3.60000e+01 -6.30000e+02  3.36000e+03 -7.56000e+03  7.56000e+03\n",
      "  -2.77200e+03]\n",
      " [-6.30000e+02  1.47000e+04 -8.82000e+04  2.11680e+05 -2.20500e+05\n",
      "   8.31600e+04]\n",
      " [ 3.36000e+03 -8.82000e+04  5.64480e+05 -1.41120e+06  1.51200e+06\n",
      "  -5.82120e+05]\n",
      " [-7.56000e+03  2.11680e+05 -1.41120e+06  3.62880e+06 -3.96900e+06\n",
      "   1.55232e+06]\n",
      " [ 7.56000e+03 -2.20500e+05  1.51200e+06 -3.96900e+06  4.41000e+06\n",
      "  -1.74636e+06]\n",
      " [-2.77200e+03  8.31600e+04 -5.82120e+05  1.55232e+06 -1.74636e+06\n",
      "   6.98544e+05]]\n"
     ]
    }
   ],
   "source": [
    "temp=elemrowop(A,I,6,6)\n",
    "temp=elemrowop2(temp[0],temp[1],6)\n",
    "temp=diagop(temp[0],temp[1],6)\n",
    "print(temp[1])"
   ]
  },
  {
   "attachments": {},
   "cell_type": "markdown",
   "metadata": {},
   "source": [
    "### In this section, Sympy library is used to calculate accurate value of inverse matrix of H5."
   ]
  },
  {
   "cell_type": "code",
   "execution_count": 7,
   "metadata": {},
   "outputs": [
    {
     "name": "stdout",
     "output_type": "stream",
     "text": [
      "⎡ 36     -630      3360     -7560      7560     -2772  ⎤\n",
      "⎢                                                      ⎥\n",
      "⎢-630    14700    -88200    211680   -220500    83160  ⎥\n",
      "⎢                                                      ⎥\n",
      "⎢3360   -88200    564480   -1411200  1512000   -582120 ⎥\n",
      "⎢                                                      ⎥\n",
      "⎢-7560  211680   -1411200  3628800   -3969000  1552320 ⎥\n",
      "⎢                                                      ⎥\n",
      "⎢7560   -220500  1512000   -3969000  4410000   -1746360⎥\n",
      "⎢                                                      ⎥\n",
      "⎣-2772   83160   -582120   1552320   -1746360   698544 ⎦\n"
     ]
    }
   ],
   "source": [
    "H6=Matrix(6,6,lambda i,j:1/(i+j+1))\n",
    "invH6=H6.inv('GE')\n",
    "pprint(invH6)\n"
   ]
  },
  {
   "attachments": {},
   "cell_type": "markdown",
   "metadata": {},
   "source": [
    "### It can be concluded that at dimension of 5, RREF algorithm is accurate enough compared with sympy calculation."
   ]
  }
 ],
 "metadata": {
  "kernelspec": {
   "display_name": "base",
   "language": "python",
   "name": "python3"
  },
  "language_info": {
   "codemirror_mode": {
    "name": "ipython",
    "version": 3
   },
   "file_extension": ".py",
   "mimetype": "text/x-python",
   "name": "python",
   "nbconvert_exporter": "python",
   "pygments_lexer": "ipython3",
   "version": "3.9.13"
  },
  "orig_nbformat": 4
 },
 "nbformat": 4,
 "nbformat_minor": 2
}

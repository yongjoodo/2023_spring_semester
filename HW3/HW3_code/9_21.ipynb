{
 "cells": [
  {
   "cell_type": "code",
   "execution_count": 4,
   "metadata": {},
   "outputs": [],
   "source": [
    "import numpy as np"
   ]
  },
  {
   "cell_type": "code",
   "execution_count": 5,
   "metadata": {},
   "outputs": [],
   "source": [
    "def bisolve(A,b):\n",
    "    n=A.shape[0]\n",
    "    x=np.zeros([n,1])\n",
    "    x[n-1,0]=b[n-1,0]/A[n-1,n-1]\n",
    "    for i in range(1,n):\n",
    "        x[n-1-i,0]=(b[n-1-i,0]-A[n-1-i,n-i]*x[n-i,0])/A[n-1-i,n-1-i]\n",
    "    return x"
   ]
  },
  {
   "cell_type": "code",
   "execution_count": 7,
   "metadata": {},
   "outputs": [
    {
     "name": "stdout",
     "output_type": "stream",
     "text": [
      "[[ 2.38054762]\n",
      " [-0.47190647]\n",
      " [ 0.89022976]\n",
      " [ 0.56292301]\n",
      " [ 0.10327946]]\n"
     ]
    }
   ],
   "source": [
    "N1=5\n",
    "A=np.random.rand(N1,N1)\n",
    "b=np.random.rand(N1,1)\n",
    "x=bisolve(A,b)\n",
    "print(x)"
   ]
  },
  {
   "cell_type": "code",
   "execution_count": 18,
   "metadata": {},
   "outputs": [
    {
     "name": "stdout",
     "output_type": "stream",
     "text": [
      "[[ 1.89497524e+05]\n",
      " [-2.27208490e+05]\n",
      " [ 1.15831624e+05]\n",
      " [-8.00862681e+04]\n",
      " [ 3.27709807e+05]\n",
      " [-5.25159237e+05]\n",
      " [ 3.13202479e+07]\n",
      " [-2.82181523e+04]\n",
      " [ 1.50952716e+04]\n",
      " [-8.88726826e+03]\n",
      " [ 1.97304994e+03]\n",
      " [-5.07398978e+03]\n",
      " [ 5.33453767e+03]\n",
      " [-1.38173571e+04]\n",
      " [ 1.86798059e+04]\n",
      " [-7.44518792e+03]\n",
      " [ 1.99344865e+02]\n",
      " [-1.08987558e+02]\n",
      " [ 5.13520687e+01]\n",
      " [-2.85901644e+02]\n",
      " [ 9.53848053e+01]\n",
      " [-8.83400858e+01]\n",
      " [ 1.68287921e+01]\n",
      " [ 4.88406880e-01]\n",
      " [ 3.96735146e+00]]\n"
     ]
    }
   ],
   "source": [
    "N2=25\n",
    "A=np.random.rand(N2,N2)\n",
    "b=np.random.rand(N2,1)\n",
    "x=bisolve(A,b)\n",
    "print(x)"
   ]
  }
 ],
 "metadata": {
  "kernelspec": {
   "display_name": "base",
   "language": "python",
   "name": "python3"
  },
  "language_info": {
   "codemirror_mode": {
    "name": "ipython",
    "version": 3
   },
   "file_extension": ".py",
   "mimetype": "text/x-python",
   "name": "python",
   "nbconvert_exporter": "python",
   "pygments_lexer": "ipython3",
   "version": "3.9.12"
  },
  "orig_nbformat": 4
 },
 "nbformat": 4,
 "nbformat_minor": 2
}

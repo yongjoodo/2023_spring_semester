{
 "cells": [
  {
   "cell_type": "code",
   "execution_count": 1,
   "metadata": {},
   "outputs": [],
   "source": [
    "import numpy as np"
   ]
  },
  {
   "cell_type": "code",
   "execution_count": 2,
   "metadata": {},
   "outputs": [],
   "source": [
    "N=5001\n",
    "an=np.random.rand(1,N)\n",
    "bn=np.random.rand(1,N)\n",
    "an[0,int((N-1)/2)]=bn[0,int((N-1)/2)]\n",
    "b=np.random.rand(N,1)"
   ]
  },
  {
   "cell_type": "code",
   "execution_count": 3,
   "metadata": {},
   "outputs": [],
   "source": [
    "def xmatsolve(a,b,rhs):\n",
    "    n=a.shape[1]\n",
    "    if(n%2==0):print(\"n is even\");return\n",
    "    if(a.shape[1]!=b.shape[1]):print(\"a or b do not have same number of elements\");return\n",
    "    if(a[0,int((n+1)/2)-1]!=b[0,int((n+1)/2)-1]):print(\"The diagonals do not share a common center\");return\n",
    "    x=np.zeros([n,1])\n",
    "    x[int((n+1)/2)-1,0]=rhs[int((n+1)/2)-1,0]/a[0,int((n+1)/2)-1]\n",
    "\n",
    "    for i in range(1,int((n+1)/2)):\n",
    "        tempA=np.array([[a[0,int((n-1)/2)-i],b[0,int((n-1)/2)+i]],[b[0,int((n-1)/2)-i],a[0,int((n-1)/2)+i]]])\n",
    "        tempb=np.array([rhs[int((n-1)/2)-i,0],rhs[int((n-1)/2)+i,0]])\n",
    "        tempx=np.linalg.solve(tempA,tempb)\n",
    "        x[int((n-1)/2)-i,0]=tempx[0]\n",
    "        x[int((n-1)/2)+i,0]=tempx[1]\n",
    "    return x"
   ]
  },
  {
   "cell_type": "code",
   "execution_count": 4,
   "metadata": {},
   "outputs": [],
   "source": [
    "def buildxmat(a,b):\n",
    "    n=a.shape[1]\n",
    "    if(n%2==0):print(\"n is even\");return\n",
    "    if(a.shape[1]!=b.shape[1]):print(\"a or b do not have same number of elements\");return\n",
    "    if(a[0,int((n+1)/2)-1]!=b[0,int((n+1)/2)-1]):print(\"The diagonals do not share a common center\");return\n",
    "    X=np.zeros([n,n])\n",
    "    for i in range(0,n):\n",
    "        X[i,i]=a[0,i]\n",
    "        X[n-1-i,i]=b[0,i]\n",
    "    return X"
   ]
  },
  {
   "cell_type": "code",
   "execution_count": 5,
   "metadata": {},
   "outputs": [],
   "source": [
    "def testxmatsolve(a,b,rhs):\n",
    "    X=buildxmat(a,b)\n",
    "    testx=np.linalg.solve(X,rhs)\n",
    "    return testx"
   ]
  },
  {
   "cell_type": "code",
   "execution_count": 6,
   "metadata": {},
   "outputs": [],
   "source": [
    "def testbtwntwoftns2norm(x,xtest):\n",
    "    temp=0\n",
    "    for i in range(0,x.shape[0]):\n",
    "        temp+=(x[i,0]-xtest[i,0])**2\n",
    "    return np.sqrt(temp)"
   ]
  },
  {
   "cell_type": "code",
   "execution_count": 7,
   "metadata": {},
   "outputs": [
    {
     "name": "stdout",
     "output_type": "stream",
     "text": [
      "Error between two results, measured in 2-norm is given as:  0.0\n"
     ]
    }
   ],
   "source": [
    "x=xmatsolve(an,bn,b)\n",
    "testx=testxmatsolve(an,bn,b)\n",
    "error=testbtwntwoftns2norm(x,testx)\n",
    "print(\"Error between two results, measured in 2-norm is given as: \",error)"
   ]
  }
 ],
 "metadata": {
  "kernelspec": {
   "display_name": "base",
   "language": "python",
   "name": "python3"
  },
  "language_info": {
   "codemirror_mode": {
    "name": "ipython",
    "version": 3
   },
   "file_extension": ".py",
   "mimetype": "text/x-python",
   "name": "python",
   "nbconvert_exporter": "python",
   "pygments_lexer": "ipython3",
   "version": "3.9.12"
  },
  "orig_nbformat": 4
 },
 "nbformat": 4,
 "nbformat_minor": 2
}

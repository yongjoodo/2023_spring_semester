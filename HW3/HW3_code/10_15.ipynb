{
 "cells": [
  {
   "cell_type": "code",
   "execution_count": 2,
   "metadata": {},
   "outputs": [],
   "source": [
    "import numpy as np"
   ]
  },
  {
   "cell_type": "code",
   "execution_count": 3,
   "metadata": {},
   "outputs": [],
   "source": [
    "def matrix10_15(n):\n",
    "    A=np.zeros([n,n])\n",
    "    for i in range(n,0,-1):\n",
    "        for j in range(0,i):\n",
    "            A[j,j+(n-i)]=n-j-(n-i)\n",
    "    for i in range(0,n-1):\n",
    "        A[i+1,i]=n-i-1\n",
    "    return A\n",
    "\n",
    "def Aperturbation(n):\n",
    "    Aperturb=np.zeros([n,n])\n",
    "    Aperturb[0,n-2]=1e-08\n",
    "    return Aperturb"
   ]
  },
  {
   "cell_type": "code",
   "execution_count": 10,
   "metadata": {},
   "outputs": [
    {
     "name": "stdout",
     "output_type": "stream",
     "text": [
      "[-3.78488352e-10  3.25754490e-09 -4.44089210e-16  3.83258041e-08\n",
      " -4.12048672e-08]\n",
      "[-1.13686838e-13  7.42872430e-12 -2.77506018e-10  7.12682224e-09\n",
      " -9.81218371e-08 -2.83082257e-06 -6.40407038e-04  1.14623121e-03\n",
      " -5.99480700e-04  9.65786195e-05]\n",
      "[-1.42108547e-13+0.j         -1.42108547e-14+0.j\n",
      " -1.77635684e-13+0.j          1.20934374e-11+0.j\n",
      " -6.95381530e-10+0.j          4.20443289e-08+0.j\n",
      " -2.54220192e-06+0.j         -3.69621000e-11+0.j\n",
      "  5.75788336e-01+0.j          5.55256043e-02-0.1603061j\n",
      "  6.67175408e-02+0.1603061j  -1.27104982e-01-0.19808562j\n",
      " -9.96249652e-02+0.19808562j -2.86350465e-01-0.03951654j\n",
      " -1.84948567e-01+0.03951654j]\n",
      "[ 4.97379915e-14+0.j          8.52651283e-14+0.j\n",
      "  3.55271368e-14+0.j          4.61852778e-14+0.j\n",
      " -4.26325641e-13+0.j          3.56710217e-11+0.j\n",
      " -3.29027472e-09+0.j          3.84417023e-07+0.j\n",
      " -5.86698658e-05+0.j          1.88972320e+00-0.18625088j\n",
      "  1.18542986e+00+0.18625088j  2.25884616e-01-0.50146226j\n",
      "  2.51689480e-01+0.55883983j -1.41350206e+00-0.05737756j\n",
      " -6.40061182e-02-0.56670654j -6.40061182e-02+0.56670654j\n",
      " -4.25616882e-01-0.48917531j -4.25616882e-01+0.48917531j\n",
      " -6.54958187e-01-0.1637646j  -5.04962615e-01+0.1637646j ]\n"
     ]
    }
   ],
   "source": [
    "E1_5,EV1_5=np.linalg.eig(matrix10_15(5))\n",
    "E1_10,EV1_10=np.linalg.eig(matrix10_15(10))\n",
    "E1_15,EV1_15=np.linalg.eig(matrix10_15(15))\n",
    "E1_20,EV1_20=np.linalg.eig(matrix10_15(20))\n",
    "\n",
    "E2_5,EV2_5=np.linalg.eig(matrix10_15(5)+Aperturbation(5))\n",
    "E2_10,EV2_10=np.linalg.eig(matrix10_15(10)+Aperturbation(10))\n",
    "E2_15,EV2_15=np.linalg.eig(matrix10_15(15)+Aperturbation(15))\n",
    "E2_20,EV2_20=np.linalg.eig(matrix10_15(20)+Aperturbation(20))\n",
    "\n",
    "print(E1_5-E2_5)\n",
    "print(E1_10-E2_10)\n",
    "print(E1_15-E2_15)\n",
    "print(E1_20-E2_20)\n",
    "\n"
   ]
  },
  {
   "cell_type": "code",
   "execution_count": 7,
   "metadata": {},
   "outputs": [
    {
     "name": "stdout",
     "output_type": "stream",
     "text": [
      "The norm of the difference between the eigenvalues of the original matrix and the perturbed matrix for n=5 is 5.6368991472282576e-08\n",
      "The norm of the difference between the eigenvalues of the original matrix and the perturbed matrix for n=10 is 0.0014466097318101545\n",
      "The norm of the difference between the eigenvalues of the original matrix and the perturbed matrix for n=15 is 0.7838015903718134\n",
      "The norm of the difference between the eigenvalues of the original matrix and the perturbed matrix for n=20 is 3.1550087673404565\n",
      "The n that has maximum norm is 20\n"
     ]
    }
   ],
   "source": [
    "num1=np.linalg.norm(E1_5-E2_5)\n",
    "num2=np.linalg.norm(E1_10-E2_10)\n",
    "num3=np.linalg.norm(E1_15-E2_15)\n",
    "num4=np.linalg.norm(E1_20-E2_20)\n",
    "\n",
    "print(\"The norm of the difference between the eigenvalues of the original matrix and the perturbed matrix for n=5 is\",num1)\n",
    "print(\"The norm of the difference between the eigenvalues of the original matrix and the perturbed matrix for n=10 is\",num2)\n",
    "print(\"The norm of the difference between the eigenvalues of the original matrix and the perturbed matrix for n=15 is\",num3)\n",
    "print(\"The norm of the difference between the eigenvalues of the original matrix and the perturbed matrix for n=20 is\",num4)\n",
    "print(\"The n that has maximum norm is 20\")"
   ]
  },
  {
   "attachments": {},
   "cell_type": "markdown",
   "metadata": {},
   "source": [
    "### (c) np.eig(A) orders eigenvalue in largest to smallest order. Since we can observe that the perturbed value of eigenvalue gets larger when heading toward the lower part of eigen error matrix, this means that smaller eigenvalue is perturbed more than larger eigenvalues."
   ]
  },
  {
   "cell_type": "code",
   "execution_count": 5,
   "metadata": {},
   "outputs": [],
   "source": [
    "def eigcond(A):\n",
    "    m,n=A.shape\n",
    "    if m!=n:print(\"A is not a square matrix\");return\n",
    "    E,V=np.linalg.eig(A)\n",
    "    lambda_diag=np.diag(E)\n",
    "    c=np.zeros([n,1])\n",
    "    invXt=np.linalg.inv(V).T\n",
    "    for i in range(0,n):\n",
    "        x=V[:,i]/np.linalg.norm(V[:,i])\n",
    "        y=invXt[:,i]/np.linalg.norm(invXt[:,i])\n",
    "        c[i,0]=1/np.abs(y.T@x)\n",
    "    return c, lambda_diag\n",
    "    "
   ]
  },
  {
   "cell_type": "code",
   "execution_count": 6,
   "metadata": {},
   "outputs": [
    {
     "name": "stdout",
     "output_type": "stream",
     "text": [
      "[[ 1.17104069]\n",
      " [ 1.24759337]\n",
      " [ 2.74954542]\n",
      " [ 9.51112611]\n",
      " [11.04051213]]\n",
      "[[2.33925249e+00]\n",
      " [3.03028345e+00]\n",
      " [1.82869851e+00]\n",
      " [2.28708447e+00]\n",
      " [3.19198845e+01]\n",
      " [1.18367622e+03]\n",
      " [1.40819238e+05]\n",
      " [2.58974746e+05]\n",
      " [1.41030392e+05]\n",
      " [2.40275801e+04]]\n",
      "[[5.64203242e+00]\n",
      " [1.06673451e+01]\n",
      " [8.13693122e+00]\n",
      " [3.62216652e+00]\n",
      " [2.03727027e+00]\n",
      " [1.37955165e+01]\n",
      " [5.80690317e+02]\n",
      " [6.86411257e+04]\n",
      " [8.92400280e+06]\n",
      " [5.49714271e+10]\n",
      " [1.43103765e+11]\n",
      " [1.30106597e+11]\n",
      " [4.94371975e+10]\n",
      " [7.92108056e+09]\n",
      " [4.67001263e+08]]\n",
      "[[1.44225035e+01]\n",
      " [3.84825665e+01]\n",
      " [3.88415474e+01]\n",
      " [2.32219332e+01]\n",
      " [8.51938715e+00]\n",
      " [3.13689019e+00]\n",
      " [6.63062789e+00]\n",
      " [1.51162202e+02]\n",
      " [1.27150734e+04]\n",
      " [3.19628747e+06]\n",
      " [1.36746908e+09]\n",
      " [2.19283905e+13]\n",
      " [2.39651109e+13]\n",
      " [2.39651184e+13]\n",
      " [2.91368997e+13]\n",
      " [2.91369121e+13]\n",
      " [3.73426564e+13]\n",
      " [3.73426815e+13]\n",
      " [1.87157924e+13]\n",
      " [3.89054358e+11]]\n"
     ]
    }
   ],
   "source": [
    "C5, diag5=eigcond(matrix10_15(5))\n",
    "C10, diag10=eigcond(matrix10_15(10))\n",
    "C15, diag15=eigcond(matrix10_15(15))\n",
    "C20, diag20=eigcond(matrix10_15(20))\n",
    "\n",
    "print(C5)\n",
    "print(C10)\n",
    "print(C15)\n",
    "print(C20)"
   ]
  },
  {
   "attachments": {},
   "cell_type": "markdown",
   "metadata": {},
   "source": [
    "## As the conditional number gets bigger when heading downwards, we can deduce that smaller eigenvalue has bigger conditional number, which matches the observation in (c)."
   ]
  }
 ],
 "metadata": {
  "kernelspec": {
   "display_name": "base",
   "language": "python",
   "name": "python3"
  },
  "language_info": {
   "codemirror_mode": {
    "name": "ipython",
    "version": 3
   },
   "file_extension": ".py",
   "mimetype": "text/x-python",
   "name": "python",
   "nbconvert_exporter": "python",
   "pygments_lexer": "ipython3",
   "version": "3.9.12"
  },
  "orig_nbformat": 4
 },
 "nbformat": 4,
 "nbformat_minor": 2
}

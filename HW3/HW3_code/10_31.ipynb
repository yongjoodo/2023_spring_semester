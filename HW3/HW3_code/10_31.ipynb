{
 "cells": [
  {
   "cell_type": "code",
   "execution_count": 2,
   "metadata": {},
   "outputs": [],
   "source": [
    "import numpy as np\n",
    "import pyamg.util.linalg as la"
   ]
  },
  {
   "cell_type": "code",
   "execution_count": 3,
   "metadata": {},
   "outputs": [],
   "source": [
    "def vandermonde(n,m,seq):\n",
    "    if (n!=m+1):print(\"dimension error\");return\n",
    "    A=np.zeros([n,m+1])\n",
    "    for i in range(0,n):\n",
    "        for j in range(0,m+1):\n",
    "            A[i,j]=seq[i]**j\n",
    "    return A\n",
    "        "
   ]
  },
  {
   "cell_type": "code",
   "execution_count": 4,
   "metadata": {},
   "outputs": [
    {
     "name": "stdout",
     "output_type": "stream",
     "text": [
      "cond(A11)= 6518471580437.515\n",
      "cond_esti(A11)= 430755043.9821756\n"
     ]
    }
   ],
   "source": [
    "seq11=np.arange(1.0,2.1,0.1)\n",
    "A11=vandermonde(11,10,seq11)\n",
    "condA11=np.linalg.cond(A11)\n",
    "condA11_esti=la.condest(A11)\n",
    "\n",
    "print(\"cond(A11)=\",condA11)\n",
    "print(\"cond_esti(A11)=\",condA11_esti)"
   ]
  },
  {
   "cell_type": "code",
   "execution_count": 5,
   "metadata": {},
   "outputs": [
    {
     "name": "stdout",
     "output_type": "stream",
     "text": [
      "cond(A21)= 3.771978927037393e+21\n",
      "cond_esti(A21)= 5058616502.774471\n",
      "These matrices are ill-conditioned. So, it is not safe to apply gaussian elimination in the system related with this matrix.\n"
     ]
    }
   ],
   "source": [
    "seq21=np.arange(1.0,2.05,0.05)\n",
    "A21=vandermonde(21,20,seq21)\n",
    "condA21=np.linalg.cond(A21)\n",
    "condA21_esti=la.condest(A21)\n",
    "\n",
    "print(\"cond(A21)=\",condA21)\n",
    "print(\"cond_esti(A21)=\",condA21_esti)\n",
    "\n",
    "print('These matrices are ill-conditioned. So, it is not safe to apply gaussian elimination in the system related with this matrix.')"
   ]
  }
 ],
 "metadata": {
  "kernelspec": {
   "display_name": "base",
   "language": "python",
   "name": "python3"
  },
  "language_info": {
   "codemirror_mode": {
    "name": "ipython",
    "version": 3
   },
   "file_extension": ".py",
   "mimetype": "text/x-python",
   "name": "python",
   "nbconvert_exporter": "python",
   "pygments_lexer": "ipython3",
   "version": "3.9.12"
  },
  "orig_nbformat": 4
 },
 "nbformat": 4,
 "nbformat_minor": 2
}

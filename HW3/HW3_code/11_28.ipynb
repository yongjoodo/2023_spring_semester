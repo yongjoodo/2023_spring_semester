{
 "cells": [
  {
   "cell_type": "code",
   "execution_count": 1,
   "metadata": {},
   "outputs": [],
   "source": [
    "import numpy as np\n",
    "import scipy.linalg as la\n",
    "from sympy import Matrix,pprint"
   ]
  },
  {
   "cell_type": "code",
   "execution_count": 2,
   "metadata": {},
   "outputs": [
    {
     "name": "stdout",
     "output_type": "stream",
     "text": [
      "P=\n",
      " [[1. 0. 0.]\n",
      " [0. 1. 0.]\n",
      " [0. 0. 1.]]\n",
      "L=\n",
      " [[ 1.  0.  0.]\n",
      " [-1.  1.  0.]\n",
      " [-1. -1.  1.]]\n",
      "U=\n",
      " [[1. 0. 1.]\n",
      " [0. 1. 2.]\n",
      " [0. 0. 4.]]\n"
     ]
    }
   ],
   "source": [
    "A=np.array([[1,0,1],[-1,1,1],[-1,-1,1]])\n",
    "P,L,U=la.lu(A)\n",
    "print(\"P=\\n\",P)\n",
    "print(\"L=\\n\",L)\n",
    "print(\"U=\\n\",U)"
   ]
  },
  {
   "cell_type": "code",
   "execution_count": 3,
   "metadata": {},
   "outputs": [
    {
     "name": "stdout",
     "output_type": "stream",
     "text": [
      "x=\n",
      " [0. 0. 1.]\n"
     ]
    }
   ],
   "source": [
    "b1=np.array([1,1,1])\n",
    "temp=np.linalg.inv(L)@b1\n",
    "x=np.linalg.inv(U)@temp\n",
    "print(\"x=\\n\",x)"
   ]
  },
  {
   "cell_type": "code",
   "execution_count": 7,
   "metadata": {},
   "outputs": [
    {
     "name": "stdout",
     "output_type": "stream",
     "text": [
      "L=\n",
      "⎡        1           0   0⎤\n",
      "⎢                         ⎥\n",
      "⎢       0.5          1   0⎥\n",
      "⎢                         ⎥\n",
      "⎣0.333333333333333  1.0  1⎦\n",
      "U=\n",
      "⎡1         0.5           0.333333333333333 ⎤\n",
      "⎢                                          ⎥\n",
      "⎢0  0.0833333333333333  0.0833333333333333 ⎥\n",
      "⎢                                          ⎥\n",
      "⎣0          0           0.00555555555555552⎦\n",
      "P=\n",
      "[]\n",
      "x=\n",
      "⎡3.00000000000003 ⎤\n",
      "⎢                 ⎥\n",
      "⎢-24.0000000000002⎥\n",
      "⎢                 ⎥\n",
      "⎣30.0000000000002 ⎦\n"
     ]
    }
   ],
   "source": [
    "B=Matrix([[1,1/2,1/3],[1/2,1/3,1/4],[1/3,1/4,1/5]])\n",
    "b2=Matrix([1,1,1])\n",
    "L,U,P=B.LUdecomposition()\n",
    "temp=L.inv()*b2\n",
    "x=U.inv()*temp\n",
    "print('L=');pprint(L)\n",
    "print('U=');pprint(U)\n",
    "print('P=');pprint(P)\n",
    "print('x=');pprint(x)"
   ]
  }
 ],
 "metadata": {
  "kernelspec": {
   "display_name": "base",
   "language": "python",
   "name": "python3"
  },
  "language_info": {
   "codemirror_mode": {
    "name": "ipython",
    "version": 3
   },
   "file_extension": ".py",
   "mimetype": "text/x-python",
   "name": "python",
   "nbconvert_exporter": "python",
   "pygments_lexer": "ipython3",
   "version": "3.9.12"
  },
  "orig_nbformat": 4
 },
 "nbformat": 4,
 "nbformat_minor": 2
}

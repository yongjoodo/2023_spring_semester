{
 "cells": [
  {
   "cell_type": "code",
   "execution_count": 2,
   "metadata": {},
   "outputs": [],
   "source": [
    "import numpy as np"
   ]
  },
  {
   "cell_type": "code",
   "execution_count": 3,
   "metadata": {},
   "outputs": [],
   "source": [
    "def trid(n):\n",
    "    X=np.zeros((n,n))\n",
    "    for i in range(0,n):\n",
    "        X[i,i]=1\n",
    "    for i in range(0,n-1):\n",
    "        X[i+1,i]=-0.25;X[i,i+1]=-0.25\n",
    "    return X"
   ]
  },
  {
   "cell_type": "code",
   "execution_count": 4,
   "metadata": {},
   "outputs": [],
   "source": [
    "#For square matrix\n",
    "\n",
    "def ludecomp(A):\n",
    "    n=np.shape(A)[0]\n",
    "    index_i=0;index_j=0\n",
    "    switch=0\n",
    "    P=np.zeros([n,n,n])\n",
    "    E=np.zeros([n,n,n])\n",
    "    T=np.zeros([n,n,n])\n",
    "    P_output=np.eye(n,dtype='float')\n",
    "    L_output=np.eye(n,dtype='float')\n",
    "    U=A\n",
    "    for i in range(0,n):\n",
    "        P[i]=np.eye(n,dtype='float')\n",
    "        E[i]=np.eye(n,dtype='float')\n",
    "    for index_j in range(0,n):\n",
    "        tempindex=index_i\n",
    "        for i in range(index_i,n):\n",
    "            if(A[i,index_j]!=0):break\n",
    "            tempindex+=1\n",
    "        if(tempindex==n):index_j+=1;continue\n",
    "        if(tempindex!=index_i):switch+=1\n",
    "\n",
    "        tempP=P[index_j]\n",
    "        tempP[index_i,index_i]=0;tempP[tempindex,tempindex]=0;tempP[index_i,tempindex]=1;tempP[tempindex,index_i]=1\n",
    "        P[index_j]=tempP\n",
    "        U=tempP@U\n",
    "        tempE=E[index_j]\n",
    "        for i in range(index_i+1,n):\n",
    "            tempE[i,index_i]=-U[i,index_j]/U[index_i,index_j]\n",
    "        E[index_j]=tempE\n",
    "        U=tempE@U\n",
    "        index_i+=1\n",
    "    for i in range(0,n-1):\n",
    "        T[i]=E[i]\n",
    "        for j in range(i+1,n):\n",
    "            T[i]=P[j]@T[i]@np.linalg.inv(P[j])\n",
    "    T[n-1]=E[n-1]\n",
    "\n",
    "    for i in range(0,n):\n",
    "        P_output=P[i]@P_output\n",
    "    for i in range(0,n):\n",
    "        L_output=T[i]@L_output\n",
    "    L_output=np.linalg.inv(L_output)\n",
    "\n",
    "    return P_output,L_output,U,switch"
   ]
  },
  {
   "cell_type": "code",
   "execution_count": 7,
   "metadata": {},
   "outputs": [
    {
     "name": "stdout",
     "output_type": "stream",
     "text": [
      "For n=5, the number of switches is 0\n",
      "For n=10, the number of switches is 0\n",
      "For n=25, the number of switches is 0\n"
     ]
    },
    {
     "ename": "KeyboardInterrupt",
     "evalue": "",
     "output_type": "error",
     "traceback": [
      "\u001b[0;31m---------------------------------------------------------------------------\u001b[0m",
      "\u001b[0;31mKeyboardInterrupt\u001b[0m                         Traceback (most recent call last)",
      "Cell \u001b[0;32mIn[7], line 9\u001b[0m\n\u001b[1;32m      7\u001b[0m \u001b[39mprint\u001b[39m(\u001b[39m'\u001b[39m\u001b[39mFor n=10, the number of switches is\u001b[39m\u001b[39m'\u001b[39m,ludecomp(A10)[\u001b[39m3\u001b[39m])\n\u001b[1;32m      8\u001b[0m \u001b[39mprint\u001b[39m(\u001b[39m'\u001b[39m\u001b[39mFor n=25, the number of switches is\u001b[39m\u001b[39m'\u001b[39m,ludecomp(A25)[\u001b[39m3\u001b[39m])\n\u001b[0;32m----> 9\u001b[0m \u001b[39mprint\u001b[39m(\u001b[39m'\u001b[39m\u001b[39mFor n=100, the number of switches is\u001b[39m\u001b[39m'\u001b[39m,ludecomp(A100)[\u001b[39m3\u001b[39m])\n",
      "Cell \u001b[0;32mIn[4], line 37\u001b[0m, in \u001b[0;36mludecomp\u001b[0;34m(A)\u001b[0m\n\u001b[1;32m     35\u001b[0m     T[i]\u001b[39m=\u001b[39mE[i]\n\u001b[1;32m     36\u001b[0m     \u001b[39mfor\u001b[39;00m j \u001b[39min\u001b[39;00m \u001b[39mrange\u001b[39m(i\u001b[39m+\u001b[39m\u001b[39m1\u001b[39m,n):\n\u001b[0;32m---> 37\u001b[0m         T[i]\u001b[39m=\u001b[39mP[j]\u001b[39m@T\u001b[39m[i]\u001b[39m@np\u001b[39m\u001b[39m.\u001b[39;49mlinalg\u001b[39m.\u001b[39;49minv(P[j])\n\u001b[1;32m     38\u001b[0m T[n\u001b[39m-\u001b[39m\u001b[39m1\u001b[39m]\u001b[39m=\u001b[39mE[n\u001b[39m-\u001b[39m\u001b[39m1\u001b[39m]\n\u001b[1;32m     40\u001b[0m \u001b[39mfor\u001b[39;00m i \u001b[39min\u001b[39;00m \u001b[39mrange\u001b[39m(\u001b[39m0\u001b[39m,n):\n",
      "File \u001b[0;32m<__array_function__ internals>:180\u001b[0m, in \u001b[0;36minv\u001b[0;34m(*args, **kwargs)\u001b[0m\n",
      "File \u001b[0;32m~/opt/anaconda3/lib/python3.9/site-packages/numpy/linalg/linalg.py:552\u001b[0m, in \u001b[0;36minv\u001b[0;34m(a)\u001b[0m\n\u001b[1;32m    550\u001b[0m signature \u001b[39m=\u001b[39m \u001b[39m'\u001b[39m\u001b[39mD->D\u001b[39m\u001b[39m'\u001b[39m \u001b[39mif\u001b[39;00m isComplexType(t) \u001b[39melse\u001b[39;00m \u001b[39m'\u001b[39m\u001b[39md->d\u001b[39m\u001b[39m'\u001b[39m\n\u001b[1;32m    551\u001b[0m extobj \u001b[39m=\u001b[39m get_linalg_error_extobj(_raise_linalgerror_singular)\n\u001b[0;32m--> 552\u001b[0m ainv \u001b[39m=\u001b[39m _umath_linalg\u001b[39m.\u001b[39;49minv(a, signature\u001b[39m=\u001b[39;49msignature, extobj\u001b[39m=\u001b[39;49mextobj)\n\u001b[1;32m    553\u001b[0m \u001b[39mreturn\u001b[39;00m wrap(ainv\u001b[39m.\u001b[39mastype(result_t, copy\u001b[39m=\u001b[39m\u001b[39mFalse\u001b[39;00m))\n",
      "\u001b[0;31mKeyboardInterrupt\u001b[0m: "
     ]
    }
   ],
   "source": [
    "A5=trid(5)\n",
    "A10=trid(10)\n",
    "A25=trid(25)\n",
    "A100=trid(100)\n",
    "\n",
    "print('For n=5, the number of switches is',ludecomp(A5)[3])\n",
    "print('For n=10, the number of switches is',ludecomp(A10)[3])\n",
    "print('For n=25, the number of switches is',ludecomp(A25)[3])\n",
    "print('For n=100, the number of switches is',ludecomp(A100)[3])\n",
    "\n"
   ]
  }
 ],
 "metadata": {
  "kernelspec": {
   "display_name": "base",
   "language": "python",
   "name": "python3"
  },
  "language_info": {
   "codemirror_mode": {
    "name": "ipython",
    "version": 3
   },
   "file_extension": ".py",
   "mimetype": "text/x-python",
   "name": "python",
   "nbconvert_exporter": "python",
   "pygments_lexer": "ipython3",
   "version": "3.9.16"
  },
  "orig_nbformat": 4
 },
 "nbformat": 4,
 "nbformat_minor": 2
}

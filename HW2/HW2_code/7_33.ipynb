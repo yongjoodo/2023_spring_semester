{
 "cells": [
  {
   "cell_type": "code",
   "execution_count": 34,
   "metadata": {},
   "outputs": [],
   "source": [
    "import numpy as np\n"
   ]
  },
  {
   "cell_type": "code",
   "execution_count": 4,
   "metadata": {},
   "outputs": [],
   "source": [
    "def norm_7_33(A,n):\n",
    "    max=abs(A[0,0])\n",
    "    for i in range(0,n):\n",
    "        for j in range(0,n):\n",
    "            if abs(A[i,j])>max:max=abs(A[i,j])\n",
    "\n",
    "    return max    "
   ]
  },
  {
   "cell_type": "code",
   "execution_count": 139,
   "metadata": {},
   "outputs": [
    {
     "name": "stdout",
     "output_type": "stream",
     "text": [
      "For A5 case, 95 328.0 345.0 196.8977535775777 309.64011368038217\n",
      "For A15 case, 100 934.0 1018.0 457.95661933786874 908.0060572485186\n",
      "For A25 case, 100 1568.0 1518.0 539.0482128339191 1449.9810343587258\n"
     ]
    }
   ],
   "source": [
    "A5= np.random.randint(-100,100+1,size=(5,5))\n",
    "A15= np.random.randint(-100,100+1,size=(15,15))\n",
    "A25= np.random.randint(-100,100+1,size=(25,25))\n",
    "\n",
    "norm_7_33_A5=norm_7_33(A5,5)\n",
    "norm_inf_A5=np.linalg.norm(A5,np.inf)\n",
    "norm_1_A5=np.linalg.norm(A5,1)\n",
    "norm_2_A5=np.linalg.norm(A5,2)\n",
    "norm_frob_A5=np.linalg.norm(A5,'fro')\n",
    "\n",
    "norm_7_33_A15=norm_7_33(A15,15)\n",
    "norm_inf_A15=np.linalg.norm(A15,np.inf)\n",
    "norm_1_A15=np.linalg.norm(A15,1)\n",
    "norm_2_A15=np.linalg.norm(A15,2)\n",
    "norm_frob_A15=np.linalg.norm(A15,'fro')\n",
    "\n",
    "norm_7_33_A25=norm_7_33(A25,25)\n",
    "norm_inf_A25=np.linalg.norm(A25,np.inf)\n",
    "norm_1_A25=np.linalg.norm(A25,1)\n",
    "norm_2_A25=np.linalg.norm(A25,2)\n",
    "norm_frob_A25=np.linalg.norm(A25,'fro')\n",
    "\n",
    "print(\"For A5 case,\",norm_7_33_A5,norm_inf_A5,norm_1_A5,norm_2_A5,norm_frob_A5)\n",
    "print(\"For A15 case,\",norm_7_33_A15,norm_inf_A15,norm_1_A15,norm_2_A15,norm_frob_A15)\n",
    "print(\"For A25 case,\",norm_7_33_A25,norm_inf_A25,norm_1_A25,norm_2_A25,norm_frob_A25)"
   ]
  }
 ],
 "metadata": {
  "kernelspec": {
   "display_name": "base",
   "language": "python",
   "name": "python3"
  },
  "language_info": {
   "codemirror_mode": {
    "name": "ipython",
    "version": 3
   },
   "file_extension": ".py",
   "mimetype": "text/x-python",
   "name": "python",
   "nbconvert_exporter": "python",
   "pygments_lexer": "ipython3",
   "version": "3.9.12"
  },
  "orig_nbformat": 4
 },
 "nbformat": 4,
 "nbformat_minor": 2
}

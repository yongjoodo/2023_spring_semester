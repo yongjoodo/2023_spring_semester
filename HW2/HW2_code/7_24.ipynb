{
 "cells": [
  {
   "attachments": {},
   "cell_type": "markdown",
   "metadata": {},
   "source": [
    "### Problem 7.24"
   ]
  },
  {
   "cell_type": "code",
   "execution_count": 2,
   "metadata": {},
   "outputs": [
    {
     "name": "stdout",
     "output_type": "stream",
     "text": [
      "The inequality is true\n"
     ]
    }
   ],
   "source": [
    "import numpy as np\n",
    "\n",
    "A=np.array([[1, 0, 1],\n",
    "            [1, 1, 1],\n",
    "            [0, 0, 1],\n",
    "            [1, 1, 1],\n",
    "            [0, 1, 1],\n",
    "            [1, 1, 0]])\n",
    "\n",
    "norm_inf=np.linalg.norm(A,np.inf)\n",
    "norm_2=np.linalg.norm(A,2)\n",
    "\n",
    "Left=norm_inf/np.sqrt(3)\n",
    "Mid=norm_2\n",
    "Right=norm_inf*np.sqrt(6)\n",
    "\n",
    "if(Left<=Mid):\n",
    "    if(Mid<=Right):print('The inequality is true')\n",
    "    else:print('The inequality is not true')\n",
    "else:print('The inequality is not true')\n",
    "            "
   ]
  },
  {
   "cell_type": "code",
   "execution_count": 3,
   "metadata": {},
   "outputs": [
    {
     "name": "stdout",
     "output_type": "stream",
     "text": [
      "The inequality is true\n"
     ]
    }
   ],
   "source": [
    "norm_1=np.linalg.norm(A,1)\n",
    "norm_2=np.linalg.norm(A,2)\n",
    "\n",
    "Left=norm_1/np.sqrt(6)\n",
    "Mid=norm_2\n",
    "Right=norm_1*np.sqrt(3)\n",
    "\n",
    "if(Left<=Mid):\n",
    "    if(Mid<=Right):print('The inequality is true')\n",
    "    else:print('The inequality is not true')\n",
    "else:print('The inequality is not true')"
   ]
  }
 ],
 "metadata": {
  "kernelspec": {
   "display_name": "base",
   "language": "python",
   "name": "python3"
  },
  "language_info": {
   "codemirror_mode": {
    "name": "ipython",
    "version": 3
   },
   "file_extension": ".py",
   "mimetype": "text/x-python",
   "name": "python",
   "nbconvert_exporter": "python",
   "pygments_lexer": "ipython3",
   "version": "3.9.12"
  },
  "orig_nbformat": 4
 },
 "nbformat": 4,
 "nbformat_minor": 2
}

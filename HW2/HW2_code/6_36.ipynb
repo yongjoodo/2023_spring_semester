{
 "cells": [
  {
   "attachments": {},
   "cell_type": "markdown",
   "metadata": {},
   "source": [
    "## Problem 6.37\n",
    "\n",
    "### (c)"
   ]
  },
  {
   "cell_type": "code",
   "execution_count": 22,
   "metadata": {},
   "outputs": [
    {
     "name": "stdout",
     "output_type": "stream",
     "text": [
      "1.370715220804968e-14\n"
     ]
    }
   ],
   "source": [
    "import numpy as np\n",
    "\n",
    "A=np.array([[1,  -1,  5,  0,  3],\n",
    "            [5,  -1,  3,  6,  1],\n",
    "            [8,  -9,  2,  7,  4],\n",
    "            [8,   4, -3,  5,  1],\n",
    "            [-1, -4,  3,  0,  2]])\n",
    "\n",
    "U, Sigma, Vt = np.linalg.svd(A,full_matrices=True)\n",
    "ans=np.linalg.norm(A-U@np.diag(Sigma)@Vt,None)\n",
    "print(ans)"
   ]
  },
  {
   "attachments": {},
   "cell_type": "markdown",
   "metadata": {},
   "source": [
    "### (d)"
   ]
  },
  {
   "cell_type": "code",
   "execution_count": 21,
   "metadata": {},
   "outputs": [
    {
     "name": "stdout",
     "output_type": "stream",
     "text": [
      "4.556517611931872e-13\n"
     ]
    }
   ],
   "source": [
    "eig_val,eig_vec=np.linalg.eig(np.transpose(A)@A)\n",
    "E=sorted(eig_val,reverse=True)\n",
    "ans=np.linalg.norm(E-np.diag(np.diag(Sigma)@np.diag(Sigma)),None)\n",
    "print(ans)\n"
   ]
  }
 ],
 "metadata": {
  "kernelspec": {
   "display_name": "base",
   "language": "python",
   "name": "python3"
  },
  "language_info": {
   "codemirror_mode": {
    "name": "ipython",
    "version": 3
   },
   "file_extension": ".py",
   "mimetype": "text/x-python",
   "name": "python",
   "nbconvert_exporter": "python",
   "pygments_lexer": "ipython3",
   "version": "3.9.12"
  },
  "orig_nbformat": 4
 },
 "nbformat": 4,
 "nbformat_minor": 2
}

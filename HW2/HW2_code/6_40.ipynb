{
 "cells": [
  {
   "attachments": {},
   "cell_type": "markdown",
   "metadata": {},
   "source": [
    "## Problem 6.40"
   ]
  },
  {
   "cell_type": "code",
   "execution_count": 6,
   "metadata": {},
   "outputs": [
    {
     "name": "stdout",
     "output_type": "stream",
     "text": [
      "1.277146643099633e-15\n"
     ]
    }
   ],
   "source": [
    "import numpy as np\n",
    "\n",
    "A=np.array([[1,  -1,  5,  0,  3],\n",
    "            [5,  -1,  3,  6,  1],\n",
    "            [8,  -9,  2,  7,  4],\n",
    "            [8,   4, -3,  5,  1],\n",
    "            [-1, -4,  3,  0,  2]])\n",
    "Q,R=np.linalg.qr(A)\n",
    "\n",
    "I_ans=np.transpose(Q)@Q\n",
    "ans=np.linalg.norm(I_ans-np.eye(5,dtype=float),None)\n",
    "print(ans)\n"
   ]
  },
  {
   "attachments": {},
   "cell_type": "markdown",
   "metadata": {},
   "source": [
    "#### Because of numpy floating point error, there exists minor error in calculating QR decomposition of matrix A, resulting minor error in calculating norm(Q^tQ-I)"
   ]
  }
 ],
 "metadata": {
  "kernelspec": {
   "display_name": "base",
   "language": "python",
   "name": "python3"
  },
  "language_info": {
   "codemirror_mode": {
    "name": "ipython",
    "version": 3
   },
   "file_extension": ".py",
   "mimetype": "text/x-python",
   "name": "python",
   "nbconvert_exporter": "python",
   "pygments_lexer": "ipython3",
   "version": "3.9.12"
  },
  "orig_nbformat": 4
 },
 "nbformat": 4,
 "nbformat_minor": 2
}

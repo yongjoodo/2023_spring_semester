{
 "cells": [
  {
   "cell_type": "code",
   "execution_count": 49,
   "metadata": {},
   "outputs": [],
   "source": [
    "import numpy as np\n",
    "from scipy.linalg import expm\n",
    "import matplotlib.pyplot as plt"
   ]
  },
  {
   "cell_type": "code",
   "execution_count": 67,
   "metadata": {},
   "outputs": [],
   "source": [
    "def matexp(A):\n",
    "    n=np.size(A,0)\n",
    "    E=np.zeros([n,n])\n",
    "    F=np.eye(n,dtype=float)\n",
    "    k=1\n",
    "    N=200\n",
    "    tempx=np.zeros([1,N])\n",
    "    tempy=np.zeros([1,N])\n",
    "\n",
    "    for k in range(1,N):\n",
    "        E=E+F\n",
    "        F=A@F/k\n",
    "        tempy[0,k-1]=np.linalg.norm(E,1)\n",
    "        tempx[0,k-1]=k\n",
    "        k+=1\n",
    "\n",
    "    return E,tempx,tempy"
   ]
  },
  {
   "cell_type": "code",
   "execution_count": 68,
   "metadata": {},
   "outputs": [
    {
     "name": "stdout",
     "output_type": "stream",
     "text": [
      "[[12.58433125 -5.15944115]\n",
      " [11.27455881 -1.26246584]]\n"
     ]
    }
   ],
   "source": [
    "A=np.array([[99 ,  -100],\n",
    "            [137,  -138]])\n",
    "\n",
    "A_McLaurin, tempx, tempy =matexp(A)\n",
    "print(A_McLaurin)"
   ]
  },
  {
   "cell_type": "code",
   "execution_count": 69,
   "metadata": {},
   "outputs": [
    {
     "name": "stdout",
     "output_type": "stream",
     "text": [
      "[[ 1.3621482  -0.99426876]\n",
      " [ 1.3621482  -0.99426876]]\n"
     ]
    }
   ],
   "source": [
    "A_true=expm(A)\n",
    "print(A_true)"
   ]
  },
  {
   "cell_type": "code",
   "execution_count": 70,
   "metadata": {},
   "outputs": [
    {
     "data": {
      "image/png": "[encoded data removed]",
      "text/plain": [
       "<Figure size 432x288 with 1 Axes>"
      ]
     },
     "metadata": {
      "needs_background": "light"
     },
     "output_type": "display_data"
    }
   ],
   "source": [
    "plt.plot(tempx,tempy,'bx')\n",
    "plt.title('Converging history')\n",
    "plt.show()"
   ]
  }
 ],
 "metadata": {
  "kernelspec": {
   "display_name": "base",
   "language": "python",
   "name": "python3"
  },
  "language_info": {
   "codemirror_mode": {
    "name": "ipython",
    "version": 3
   },
   "file_extension": ".py",
   "mimetype": "text/x-python",
   "name": "python",
   "nbconvert_exporter": "python",
   "pygments_lexer": "ipython3",
   "version": "3.9.12"
  },
  "orig_nbformat": 4
 },
 "nbformat": 4,
 "nbformat_minor": 2
}

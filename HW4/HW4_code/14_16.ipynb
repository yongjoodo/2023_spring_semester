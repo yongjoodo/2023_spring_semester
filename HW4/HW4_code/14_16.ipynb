{
 "cells": [
  {
   "cell_type": "code",
   "execution_count": 9,
   "metadata": {},
   "outputs": [],
   "source": [
    "import numpy as np\n",
    "import scipy as sp"
   ]
  },
  {
   "cell_type": "code",
   "execution_count": 15,
   "metadata": {},
   "outputs": [],
   "source": [
    "def QRdecomposition(A):\n",
    "    m, n = A.shape\n",
    "    Q = np.zeros((m, n))\n",
    "    R = np.zeros((n, n))\n",
    "\n",
    "    for i in range(0,n):\n",
    "        v=A[:,i]\n",
    "        Q[:,i]=v\n",
    "        for j in range(0,i):\n",
    "            Q[:,i]-=np.dot(v,Q[:,j])*Q[:,j]\n",
    "            R[j,i]=np.dot(v,Q[:,j])\n",
    "        R[i,i]=np.linalg.norm(Q[:,i])\n",
    "        Q[:,i]=Q[:,i]/np.linalg.norm(Q[:,i])\n",
    "        \n",
    "    return Q,R"
   ]
  },
  {
   "cell_type": "code",
   "execution_count": 21,
   "metadata": {},
   "outputs": [
    {
     "name": "stdout",
     "output_type": "stream",
     "text": [
      "Q1=\n",
      " [[ 0.21320072  0.02184521  0.40818972 -0.28528389]\n",
      " [ 0.42640143  0.40413633  0.33092524 -0.08150968]\n",
      " [ 0.          0.36044592  0.62540497 -0.4890581 ]\n",
      " [ 0.21320072  0.74273704 -0.56271869  0.81509684]\n",
      " [ 0.85280287 -0.39321373 -0.12683038  0.09169839]]\n",
      "R1=\n",
      " [[ 4.69041576e+00 -5.54321863e+00  7.24882436e+00  1.10864373e+01]\n",
      " [ 0.00000000e+00  8.32302393e+00 -6.99046629e-01  7.62397730e+00]\n",
      " [ 0.00000000e+00  0.00000000e+00  3.60081647e+00  3.60081647e+00]\n",
      " [ 0.00000000e+00  0.00000000e+00  0.00000000e+00  5.44830001e-15]]\n"
     ]
    }
   ],
   "source": [
    "A1=np.array([[1, -1,  3, 4],\n",
    "             [2,  1,  4, 9],\n",
    "             [0,  3,  2, 5],\n",
    "             [1,  5, -1, 6],\n",
    "             [4, -8,  6, 6]])\n",
    "\n",
    "A2=np.array([[1,   8,  -1,  3,  2],\n",
    "             [5,   7,  -9,  1,  4],\n",
    "             [13, 71, -17, 25, 20]])\n",
    "\n",
    "Q1,R1=QRdecomposition(A1)\n",
    "Q2,R2=QRdecomposition(A2)\n",
    "\n",
    "print('Q1=\\n',Q1);print('R1=\\n',R1)\n",
    "print('Q2=\\n',Q2);print('R2=\\n',R2)\n",
    "print('Q1.t@Q1=\\n',Q1.transpose()@Q1)\n",
    "print('Q2.t@Q2=\\n',Q2.transpose()@Q2)"
   ]
  },
  {
   "cell_type": "code",
   "execution_count": 20,
   "metadata": {},
   "outputs": [
    {
     "name": "stdout",
     "output_type": "stream",
     "text": [
      "[[-0.21320072 -0.02184521 -0.40818972 -0.8606548 ]\n",
      " [-0.42640143 -0.40413633 -0.33092524  0.42458468]\n",
      " [-0.         -0.36044592 -0.62540497  0.13530749]\n",
      " [-0.21320072 -0.74273704  0.56271869 -0.23831301]\n",
      " [-0.85280287  0.39321373  0.12683038  0.06244961]]\n",
      "[[-4.69041576e+00  5.54321863e+00 -7.24882436e+00 -1.10864373e+01]\n",
      " [ 0.00000000e+00 -8.32302393e+00  6.99046629e-01 -7.62397730e+00]\n",
      " [ 0.00000000e+00  0.00000000e+00 -3.60081647e+00 -3.60081647e+00]\n",
      " [ 0.00000000e+00  0.00000000e+00  0.00000000e+00  1.79018084e-15]]\n"
     ]
    }
   ],
   "source": [
    "Q1_rev,R1_rev=sp.linalg.qr(A1,mode='economic')\n",
    "Q2_rev,R2_rev=sp.linalg.qr(A2,mode='economic')\n",
    "\n",
    "print(Q1_rev);print(R1_rev)\n",
    "print(Q2_rev);print(R2_rev)\n",
    "\n",
    "print(Q1_rev.transpose()@Q1_rev)\n",
    "print(Q2_rev.transpose()@Q2_rev)"
   ]
  }
 ],
 "metadata": {
  "kernelspec": {
   "display_name": "base",
   "language": "python",
   "name": "python3"
  },
  "language_info": {
   "codemirror_mode": {
    "name": "ipython",
    "version": 3
   },
   "file_extension": ".py",
   "mimetype": "text/x-python",
   "name": "python",
   "nbconvert_exporter": "python",
   "pygments_lexer": "ipython3",
   "version": "3.9.16"
  },
  "orig_nbformat": 4
 },
 "nbformat": 4,
 "nbformat_minor": 2
}

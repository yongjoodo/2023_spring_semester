{
 "cells": [
  {
   "cell_type": "code",
   "execution_count": 1,
   "metadata": {},
   "outputs": [],
   "source": [
    "import numpy as np"
   ]
  },
  {
   "cell_type": "code",
   "execution_count": 25,
   "metadata": {},
   "outputs": [],
   "source": [
    "#For square matrix\n",
    "\n",
    "def ludecomp(A):\n",
    "    n=np.shape(A)[0]\n",
    "    index_i=0;index_j=0\n",
    "    switch=0\n",
    "    P=np.zeros([n,n,n])\n",
    "    E=np.zeros([n,n,n])\n",
    "    T=np.zeros([n,n,n])\n",
    "    P_output=np.eye(n,dtype='float')\n",
    "    L_output=np.eye(n,dtype='float')\n",
    "    U=A\n",
    "    for i in range(0,n):\n",
    "        P[i]=np.eye(n,dtype='float')\n",
    "        E[i]=np.eye(n,dtype='float')\n",
    "    for index_j in range(0,n):\n",
    "        tempindex=index_i\n",
    "        for i in range(index_i,n):\n",
    "            if(A[i,index_j]!=0):break\n",
    "            tempindex+=1\n",
    "        if(tempindex==n):index_j+=1;continue\n",
    "        if(tempindex!=index_i):switch+=1\n",
    "\n",
    "        tempP=P[index_j]\n",
    "        tempP[index_i,index_i]=0;tempP[tempindex,tempindex]=0;tempP[index_i,tempindex]=1;tempP[tempindex,index_i]=1\n",
    "        P[index_j]=tempP\n",
    "        U=tempP@U\n",
    "        tempE=E[index_j]\n",
    "        for i in range(index_i+1,n):\n",
    "            tempE[i,index_i]=-U[i,index_j]/U[index_i,index_j]\n",
    "        E[index_j]=tempE\n",
    "        U=tempE@U\n",
    "        index_i+=1\n",
    "    for i in range(0,n-1):\n",
    "        T[i]=E[i]\n",
    "        for j in range(i+1,n):\n",
    "            T[i]=P[j]@T[i]@np.linalg.inv(P[j])\n",
    "    T[n-1]=E[n-1]\n",
    "\n",
    "    for i in range(0,n):\n",
    "        P_output=P[i]@P_output\n",
    "    for i in range(0,n):\n",
    "        L_output=T[i]@L_output\n",
    "    L_output=np.linalg.inv(L_output)\n",
    "\n",
    "    return P_output,L_output,U,switch\n",
    "\n",
    "def cholesky(A):\n",
    "    n=np.shape(A)[0]\n",
    "    R=np.zeros([n,n])\n",
    "    for i in range(0,n):\n",
    "        for j in range(i,n):\n",
    "            if(i>j):\n",
    "                R[i,j]=0\n",
    "            elif(i==j):\n",
    "                if(i==0):\n",
    "                    if A[i,j]<0:\n",
    "                        print(\"Error: A is not positive definite\")\n",
    "                        return\n",
    "                    R[i,j]=np.sqrt(A[i,j])\n",
    "                else:\n",
    "                    if A[i,j]-np.sum(R[0:i,i]**2)<0:\n",
    "                        print(\"Error: A is not positive definite\")\n",
    "                        return\n",
    "                    R[i,j]=np.sqrt(A[i,j]-np.sum(R[0:i,i]**2))\n",
    "            else:\n",
    "                R[i,j]=(A[i,j]-np.sum(R[0:i,i]*R[0:i,j]))/R[i,i]\n",
    "    return R,R.transpose()"
   ]
  },
  {
   "cell_type": "code",
   "execution_count": 26,
   "metadata": {},
   "outputs": [],
   "source": [
    "# Solving the system of linear equations\n",
    "def LUsolve(L,U,b):\n",
    "    n=np.shape(U)[0]\n",
    "    tempx=np.zeros([n,1])\n",
    "    tempx[0,0]=b[0,0]/L[0,0]\n",
    "    for i in range(1,n):\n",
    "        tempx[i,0]=(b[i,0]-L[i,0:i])@tempx[0:i,0]/L[i,i]\n",
    "    x=np.zeros([n,1])\n",
    "    x[n-1,0]=tempx[n-1,0]/U[n-1,n-1]\n",
    "    for i in range(n-2,-1,-1):\n",
    "        x[i,0]=(tempx[i,0]-U[i,i+1:n]@x[i+1:n,0])/U[i,i]\n",
    "    return x\n",
    "\n",
    "def Choleskysolve(R,Rt,b):\n",
    "    n=np.shape(R)[0]\n",
    "    tempx=np.zeros([n,1])\n",
    "    tempx[0,0]=b[0,0]/Rt[0,0]\n",
    "    for i in range(1,n):\n",
    "        tempx[i,0]=(b[i,0]-Rt[i,0:i])@tempx[0:i,0]/Rt[i,i]\n",
    "    x=np.zeros([n,1])\n",
    "    x[n-1,0]=tempx[n-1,0]/R[n-1,n-1]\n",
    "    for i in range(n-2,-1,-1):\n",
    "        x[i,0]=(tempx[i,0]-R[i,i+1:n]@x[i+1:n,0])/R[i,i]\n",
    "    return x"
   ]
  },
  {
   "cell_type": "code",
   "execution_count": 27,
   "metadata": {},
   "outputs": [
    {
     "name": "stdout",
     "output_type": "stream",
     "text": [
      "[[1.         1.         1.        ]\n",
      " [0.         1.         0.        ]\n",
      " [0.         0.         1.41421356]]\n"
     ]
    }
   ],
   "source": [
    "A=np.array([[1,1,1],\n",
    "            [1,2,1],\n",
    "            [1,1,3]])\n",
    "\n",
    "P,L,U,switch=ludecomp(A)\n",
    "R,Rt=cholesky(A)\n",
    "print(R)"
   ]
  },
  {
   "cell_type": "code",
   "execution_count": 28,
   "metadata": {},
   "outputs": [
    {
     "name": "stdout",
     "output_type": "stream",
     "text": [
      "LU decomposition: [[ 6.5]\n",
      " [-2. ]\n",
      " [-5.5]]\n",
      "Cholesky decomposition: [[ 6.5]\n",
      " [-2. ]\n",
      " [-5.5]]\n"
     ]
    }
   ],
   "source": [
    "b=np.array([[-1,3,4]]).transpose()\n",
    "x_LU=LUsolve(L,U,b)\n",
    "x_Cholesky=Choleskysolve(R,Rt,b)\n",
    "\n",
    "print(\"LU decomposition:\",x_LU)\n",
    "print(\"Cholesky decomposition:\",x_Cholesky)"
   ]
  }
 ],
 "metadata": {
  "kernelspec": {
   "display_name": "base",
   "language": "python",
   "name": "python3"
  },
  "language_info": {
   "codemirror_mode": {
    "name": "ipython",
    "version": 3
   },
   "file_extension": ".py",
   "mimetype": "text/x-python",
   "name": "python",
   "nbconvert_exporter": "python",
   "pygments_lexer": "ipython3",
   "version": "3.9.12"
  },
  "orig_nbformat": 4
 },
 "nbformat": 4,
 "nbformat_minor": 2
}

{
 "cells": [
  {
   "cell_type": "code",
   "execution_count": 1,
   "metadata": {},
   "outputs": [],
   "source": [
    "import numpy as np"
   ]
  },
  {
   "cell_type": "code",
   "execution_count": 3,
   "metadata": {},
   "outputs": [],
   "source": [
    "def cholesky(A):\n",
    "    n=np.shape(A)[0]\n",
    "    R=np.zeros([n,n])\n",
    "    for i in range(0,n):\n",
    "        for j in range(i,n):\n",
    "            if(i>j):\n",
    "                R[i,j]=0\n",
    "            elif(i==j):\n",
    "                if(i==0):\n",
    "                    if A[i,j]<0:\n",
    "                        print(\"Error: A is not positive definite\")\n",
    "                        return\n",
    "                    R[i,j]=np.sqrt(A[i,j])\n",
    "                else:\n",
    "                    if A[i,j]-np.sum(R[0:i,i]**2)<0:\n",
    "                        print(\"Error: A is not positive definite\")\n",
    "                        return\n",
    "                    R[i,j]=np.sqrt(A[i,j]-np.sum(R[0:i,i]**2))\n",
    "            else:\n",
    "                R[i,j]=(A[i,j]-np.sum(R[0:i,i]*R[0:i,j]))/R[i,i]\n",
    "    return R,R.transpose()"
   ]
  },
  {
   "cell_type": "code",
   "execution_count": 6,
   "metadata": {},
   "outputs": [
    {
     "name": "stdout",
     "output_type": "stream",
     "text": [
      "[[ 0.45716518  0.10674479 -0.14043064 -0.04790391]\n",
      " [ 0.          0.41773861 -0.18458854 -0.10146658]\n",
      " [ 0.          0.          0.60984121  0.01794443]\n",
      " [ 0.          0.          0.          0.42940394]]\n",
      "7.076311083754595e-17\n"
     ]
    }
   ],
   "source": [
    "A=np.array([[0.2090, 0.0488, -0.0642, -0.0219],\n",
    "            [0.0488, 0.1859, -0.0921, -0.0475],\n",
    "            [-0.0642, -0.0921, 0.4257, 0.0364],\n",
    "            [-0.0219, -0.0475, 0.0364, 0.1973]])\n",
    "\n",
    "R,Rt=cholesky(A)\n",
    "print(R)\n",
    "print(np.linalg.norm(A-Rt@R))"
   ]
  }
 ],
 "metadata": {
  "kernelspec": {
   "display_name": "base",
   "language": "python",
   "name": "python3"
  },
  "language_info": {
   "codemirror_mode": {
    "name": "ipython",
    "version": 3
   },
   "file_extension": ".py",
   "mimetype": "text/x-python",
   "name": "python",
   "nbconvert_exporter": "python",
   "pygments_lexer": "ipython3",
   "version": "3.9.12"
  },
  "orig_nbformat": 4
 },
 "nbformat": 4,
 "nbformat_minor": 2
}
